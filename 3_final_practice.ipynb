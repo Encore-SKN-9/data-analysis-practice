{
 "cells": [
  {
   "cell_type": "markdown",
   "metadata": {},
   "source": [
    "### 최종 실습 프로젝트\n",
    "- ecommerce_sales_data.csv 파일 활용"
   ]
  },
  {
   "cell_type": "markdown",
   "metadata": {},
   "source": [
    "당신은 한 온라인 쇼핑몰의 데이터 분석가로 고용되었다. 쇼핑몰의 판매 데이터를 분석하여 고객의 구매 패턴을 파악하고, 중요한 인사이트를 도출하는 것이 이번 프로젝트의 목표다. 이를 통해 향후 마케팅 전략을 제시하고자 한다. ecommerce_sales_data.csv 파일을 통해 주어진 데이터는 고객의 주문 기록, 상품 정보, 판매 데이터 등을 포함하고 있다. 주어진 데이터를 분석하여 아래의 질문에 답하라."
   ]
  },
  {
   "cell_type": "markdown",
   "metadata": {},
   "source": [
    "- **데이터 설명**:\n",
    "    - **OrderID**: 주문 ID\n",
    "    - **Product**: 주문한 상품 이름\n",
    "    - **Category**: 상품의 카테고리 (예: Electronics, Clothing 등)\n",
    "    - **Quantity**: 주문 수량\n",
    "    - **Price**: 상품의 가격\n",
    "    - **CustomerID**: 고객 ID\n",
    "    - **BirthDate**: 고객 생일\n",
    "    - **OrderDate**: 주문 날짜\n",
    "    - **Country**: 주문한 고객의 국가"
   ]
  },
  {
   "cell_type": "markdown",
   "metadata": {},
   "source": [
    "1. **데이터 탐색 및 전처리**\n",
    "    1. 데이터셋을 로드하고 상위 5개의 데이터를 출력하세요.\n",
    "    2. 결측값이 있는 열이 있는지 확인하고, 결측값이 있는 경우 적절한 방법으로 처리하세요.\n",
    "    3. 각 열의 데이터 타입을 확인하고, **OrderDate** 열을 datetime 형식으로 변환하세요."
   ]
  },
  {
   "cell_type": "code",
   "execution_count": 2,
   "metadata": {},
   "outputs": [
    {
     "data": {
      "text/html": [
       "<div>\n",
       "<style scoped>\n",
       "    .dataframe tbody tr th:only-of-type {\n",
       "        vertical-align: middle;\n",
       "    }\n",
       "\n",
       "    .dataframe tbody tr th {\n",
       "        vertical-align: top;\n",
       "    }\n",
       "\n",
       "    .dataframe thead th {\n",
       "        text-align: right;\n",
       "    }\n",
       "</style>\n",
       "<table border=\"1\" class=\"dataframe\">\n",
       "  <thead>\n",
       "    <tr style=\"text-align: right;\">\n",
       "      <th></th>\n",
       "      <th>OrderID</th>\n",
       "      <th>Product</th>\n",
       "      <th>Category</th>\n",
       "      <th>Quantity</th>\n",
       "      <th>Price</th>\n",
       "      <th>CustomerID</th>\n",
       "      <th>Birthdate</th>\n",
       "      <th>OrderDate</th>\n",
       "      <th>Country</th>\n",
       "      <th>DiscountRate</th>\n",
       "    </tr>\n",
       "  </thead>\n",
       "  <tbody>\n",
       "    <tr>\n",
       "      <th>0</th>\n",
       "      <td>1</td>\n",
       "      <td>역사책</td>\n",
       "      <td>Books</td>\n",
       "      <td>5</td>\n",
       "      <td>37000</td>\n",
       "      <td>1071</td>\n",
       "      <td>1980-08-08</td>\n",
       "      <td>2024-06-10 17:18</td>\n",
       "      <td>미국</td>\n",
       "      <td>0.14</td>\n",
       "    </tr>\n",
       "    <tr>\n",
       "      <th>1</th>\n",
       "      <td>2</td>\n",
       "      <td>셔츠</td>\n",
       "      <td>Clothing</td>\n",
       "      <td>5</td>\n",
       "      <td>20000</td>\n",
       "      <td>1526</td>\n",
       "      <td>1967-08-09</td>\n",
       "      <td>2023-11-18 18:45</td>\n",
       "      <td>독일</td>\n",
       "      <td>0.29</td>\n",
       "    </tr>\n",
       "    <tr>\n",
       "      <th>2</th>\n",
       "      <td>3</td>\n",
       "      <td>노트북</td>\n",
       "      <td>Electronics</td>\n",
       "      <td>4</td>\n",
       "      <td>8000</td>\n",
       "      <td>1252</td>\n",
       "      <td>1973-04-07</td>\n",
       "      <td>2023-10-15 11:19</td>\n",
       "      <td>중국</td>\n",
       "      <td>0.23</td>\n",
       "    </tr>\n",
       "    <tr>\n",
       "      <th>3</th>\n",
       "      <td>4</td>\n",
       "      <td>자전거</td>\n",
       "      <td>Sports</td>\n",
       "      <td>1</td>\n",
       "      <td>8000</td>\n",
       "      <td>1670</td>\n",
       "      <td>1970-04-08</td>\n",
       "      <td>2024-07-19 2:19</td>\n",
       "      <td>일본</td>\n",
       "      <td>0.20</td>\n",
       "    </tr>\n",
       "    <tr>\n",
       "      <th>4</th>\n",
       "      <td>5</td>\n",
       "      <td>헤드폰</td>\n",
       "      <td>Electronics</td>\n",
       "      <td>3</td>\n",
       "      <td>26000</td>\n",
       "      <td>1838</td>\n",
       "      <td>1992-05-19</td>\n",
       "      <td>2024-01-20 20:34</td>\n",
       "      <td>대한민국</td>\n",
       "      <td>0.09</td>\n",
       "    </tr>\n",
       "  </tbody>\n",
       "</table>\n",
       "</div>"
      ],
      "text/plain": [
       "   OrderID Product     Category  Quantity  Price  CustomerID   Birthdate  \\\n",
       "0        1     역사책        Books         5  37000        1071  1980-08-08   \n",
       "1        2      셔츠     Clothing         5  20000        1526  1967-08-09   \n",
       "2        3     노트북  Electronics         4   8000        1252  1973-04-07   \n",
       "3        4     자전거       Sports         1   8000        1670  1970-04-08   \n",
       "4        5     헤드폰  Electronics         3  26000        1838  1992-05-19   \n",
       "\n",
       "          OrderDate Country  DiscountRate  \n",
       "0  2024-06-10 17:18      미국          0.14  \n",
       "1  2023-11-18 18:45      독일          0.29  \n",
       "2  2023-10-15 11:19      중국          0.23  \n",
       "3   2024-07-19 2:19      일본          0.20  \n",
       "4  2024-01-20 20:34    대한민국          0.09  "
      ]
     },
     "execution_count": 2,
     "metadata": {},
     "output_type": "execute_result"
    }
   ],
   "source": [
    "# 1. 데이터셋을 로드하고 상위 5개의 데이터를 출력하세요.\n",
    "\n",
    "import numpy as np\n",
    "import pandas as pd\n",
    "df = pd.read_csv('./data/ecommerce_sales_data.csv')\n",
    "df.head()\n"
   ]
  },
  {
   "cell_type": "code",
   "execution_count": 3,
   "metadata": {},
   "outputs": [
    {
     "data": {
      "text/plain": [
       "OrderID         0\n",
       "Product         0\n",
       "Category        0\n",
       "Quantity        0\n",
       "Price           0\n",
       "CustomerID      0\n",
       "Birthdate       0\n",
       "OrderDate       0\n",
       "Country         0\n",
       "DiscountRate    1\n",
       "dtype: int64"
      ]
     },
     "execution_count": 3,
     "metadata": {},
     "output_type": "execute_result"
    }
   ],
   "source": [
    "# 2. 결측값이 있는 열이 있는지 확인하고, 결측값이 있는 경우 적절한 방법으로 처리하세요.\n",
    "\n",
    "# df.isnull().sum()\n",
    "df['Price'] = df['Price'].fillna(df['Price'].mean())\n",
    "\n",
    "df['Country'] = df['Country'].fillna('Unknown')\n",
    "\n",
    "df['Quantity'] = df['Quantity'].fillna(0)\n",
    "\n",
    "# print(df)\n",
    "df.isnull().sum()\n",
    "\n"
   ]
  },
  {
   "cell_type": "code",
   "execution_count": 4,
   "metadata": {},
   "outputs": [
    {
     "name": "stdout",
     "output_type": "stream",
     "text": [
      "OrderID           int64\n",
      "Product          object\n",
      "Category         object\n",
      "Quantity          int64\n",
      "Price             int64\n",
      "CustomerID        int64\n",
      "Birthdate        object\n",
      "OrderDate        object\n",
      "Country          object\n",
      "DiscountRate    float64\n",
      "dtype: object\n"
     ]
    }
   ],
   "source": [
    "# 3. 각 열의 데이터 타입을 확인하고, **OrderDate** 열을 datetime 형식으로 변환하세요.\n",
    "print(df.dtypes)\n",
    "df['OrderDate'] = pd.to_datetime(df['OrderDate'])\n"
   ]
  },
  {
   "cell_type": "markdown",
   "metadata": {},
   "source": [
    "2. **매출 분석**\n",
    "    1. **매출액**(총 판매 금액)을 계산하는 새로운 열 `TotalRevenue`를 생성하세요.\n",
    "        - 매출액 = `Quantity` * `Price`\n",
    "    2. 월별 총 매출액을 집계하여 시각화하세요.\n",
    "        - 힌트: `resample()`을 사용하여 월별로 데이터를 집계하세요.\n",
    "    3. 카테고리별로 매출액이 가장 높은 상위 3개의 카테고리를 구하세요.\n",
    "    4. 국가별 총 매출액을 계산하고, 매출액이 가장 높은 5개 국가를 출력하세요."
   ]
  },
  {
   "cell_type": "code",
   "execution_count": 5,
   "metadata": {},
   "outputs": [],
   "source": [
    "# 1 매출액(총 판매 금액)을 계산하는 새로운 열 `TotalRevenue`를 생성하세요.\n",
    "       # - 매출액 = `Quantity` * `Price`\n",
    "df['TotalRevenue'] = df['Quantity'] * df['Price']\n"
   ]
  },
  {
   "cell_type": "code",
   "execution_count": 6,
   "metadata": {},
   "outputs": [
    {
     "name": "stderr",
     "output_type": "stream",
     "text": [
      "c:\\Users\\leegw\\anaconda3\\envs\\gw\\lib\\site-packages\\IPython\\core\\pylabtools.py:152: UserWarning: Glyph 52509 (\\N{HANGUL SYLLABLE CONG}) missing from current font.\n",
      "  fig.canvas.print_figure(bytes_io, **kw)\n",
      "c:\\Users\\leegw\\anaconda3\\envs\\gw\\lib\\site-packages\\IPython\\core\\pylabtools.py:152: UserWarning: Glyph 47588 (\\N{HANGUL SYLLABLE MAE}) missing from current font.\n",
      "  fig.canvas.print_figure(bytes_io, **kw)\n",
      "c:\\Users\\leegw\\anaconda3\\envs\\gw\\lib\\site-packages\\IPython\\core\\pylabtools.py:152: UserWarning: Glyph 52636 (\\N{HANGUL SYLLABLE CUL}) missing from current font.\n",
      "  fig.canvas.print_figure(bytes_io, **kw)\n",
      "c:\\Users\\leegw\\anaconda3\\envs\\gw\\lib\\site-packages\\IPython\\core\\pylabtools.py:152: UserWarning: Glyph 50529 (\\N{HANGUL SYLLABLE AEG}) missing from current font.\n",
      "  fig.canvas.print_figure(bytes_io, **kw)\n",
      "c:\\Users\\leegw\\anaconda3\\envs\\gw\\lib\\site-packages\\IPython\\core\\pylabtools.py:152: UserWarning: Glyph 50896 (\\N{HANGUL SYLLABLE WEON}) missing from current font.\n",
      "  fig.canvas.print_figure(bytes_io, **kw)\n",
      "c:\\Users\\leegw\\anaconda3\\envs\\gw\\lib\\site-packages\\IPython\\core\\pylabtools.py:152: UserWarning: Glyph 50900 (\\N{HANGUL SYLLABLE WEOL}) missing from current font.\n",
      "  fig.canvas.print_figure(bytes_io, **kw)\n",
      "c:\\Users\\leegw\\anaconda3\\envs\\gw\\lib\\site-packages\\IPython\\core\\pylabtools.py:152: UserWarning: Glyph 48324 (\\N{HANGUL SYLLABLE BYEOL}) missing from current font.\n",
      "  fig.canvas.print_figure(bytes_io, **kw)\n"
     ]
    },
    {
     "data": {
      "image/png": "[encoded data removed]",
      "text/plain": [
       "<Figure size 1000x600 with 1 Axes>"
      ]
     },
     "metadata": {},
     "output_type": "display_data"
    }
   ],
   "source": [
    "#월별 총 매출액을 집계하여 시각화하세요.\n",
    "       # - 힌트: `resample()`을 사용하여 월별로 데이터를 집계하세요.\n",
    "\n",
    "#왜 뭘 해도 꺠질까;\n",
    "\n",
    "import matplotlib.pyplot as plt\n",
    "from matplotlib import font_manager\n",
    "\n",
    "# font_path = \"C:/Windows/Fonts/malgun.ttf\"  \n",
    "# fontprop = font_manager.FontProperties(fname=font_path)\n",
    "\n",
    "df['OrderDate'] = pd.to_datetime(df['OrderDate'])\n",
    "\n",
    "df.set_index('OrderDate', inplace=True)\n",
    "\n",
    "df['TotalRevenue'] = df['Quantity'] * df['Price']\n",
    "\n",
    "monthly_sales = df.resample('M')['TotalRevenue'].sum()\n",
    "\n",
    "plt.figure(figsize=(10, 6))\n",
    "monthly_sales.plot(kind='bar', color='skyblue')\n",
    "\n",
    "plt.title('월별 총 매출액')\n",
    "plt.xlabel('월')\n",
    "plt.ylabel('총 매출액 (원)')\n",
    "\n",
    "plt.xticks(rotation=45)\n",
    "\n",
    "plt.show()"
   ]
  },
  {
   "cell_type": "code",
   "execution_count": 7,
   "metadata": {},
   "outputs": [
    {
     "name": "stdout",
     "output_type": "stream",
     "text": [
      "Category\n",
      "Food           1966000\n",
      "Electronics    1746000\n",
      "Beauty         1493000\n",
      "Name: TotalRevenue, dtype: int64\n"
     ]
    }
   ],
   "source": [
    "#    3. 카테고리별로 매출액이 가장 높은 상위 3개의 카테고리를 구하세요.\n",
    "category = df.groupby('Category')['TotalRevenue'].sum()\n",
    "\n",
    "top_3 = category.nlargest(3)\n",
    "\n",
    "print(top_3)\n"
   ]
  },
  {
   "cell_type": "code",
   "execution_count": 8,
   "metadata": {},
   "outputs": [
    {
     "name": "stdout",
     "output_type": "stream",
     "text": [
      "Country\n",
      "대한민국    1419000\n",
      "독일      1973000\n",
      "미국      2238000\n",
      "일본      1523000\n",
      "중국      1766000\n",
      "Name: TotalRevenue, dtype: int64\n",
      "Category\n",
      "Food           1966000\n",
      "Electronics    1746000\n",
      "Beauty         1493000\n",
      "Books          1378000\n",
      "Clothing       1279000\n",
      "Name: TotalRevenue, dtype: int64\n"
     ]
    }
   ],
   "source": [
    "#    4. 국가별 총 매출액을 계산하고, 매출액이 가장 높은 5개 국가를 출력하세요.\n",
    "national = df.groupby('Country')['TotalRevenue'].sum()\n",
    "\n",
    "print(national)\n",
    "\n",
    "top_5 = category.nlargest(5)\n",
    "\n",
    "print(top_5)"
   ]
  },
  {
   "cell_type": "markdown",
   "metadata": {},
   "source": [
    "3. **고객 분석**\n",
    "    1. 고객별로 총 매출액을 계산한 후, 상위 5명의 고객을 출력하세요.\n",
    "    2. 주문 횟수가 가장 많은 상위 5명의 고객을 출력하세요.\n",
    "    3. **연령대**에 따라 고객을 분류하고, 각 연령대별로 가장 많이 구매한 상품의 카테고리를 구하세요.\n",
    "        - 힌트: 고객의 연령대는 따로 제공되지 않으므로, 가정 데이터를 추가해 임의로 분류할 수 있습니다."
   ]
  },
  {
   "cell_type": "code",
   "execution_count": 9,
   "metadata": {},
   "outputs": [
    {
     "name": "stdout",
     "output_type": "stream",
     "text": [
      "CustomerID\n",
      "1007    334000\n",
      "1029    165000\n",
      "1034     49000\n",
      "1038    173000\n",
      "1039    138000\n",
      "         ...  \n",
      "1947    136000\n",
      "1951     48000\n",
      "1963    165000\n",
      "1967    100000\n",
      "1982    150000\n",
      "Name: TotalRevenue, Length: 111, dtype: int64\n",
      "CustomerID\n",
      "1007    334000\n",
      "1354    245000\n",
      "1141    241000\n",
      "1589    215000\n",
      "1632    192000\n",
      "Name: TotalRevenue, dtype: int64\n"
     ]
    }
   ],
   "source": [
    "    # 1. 고객별로 총 매출액을 계산한 후, 상위 5명의 고객을 출력하세요.\n",
    "customer = df.groupby('CustomerID')['TotalRevenue'].sum()\n",
    "\n",
    "print(customer)\n",
    "\n",
    "top_5 = customer.nlargest(5)\n",
    "\n",
    "print(top_5)"
   ]
  },
  {
   "cell_type": "code",
   "execution_count": 10,
   "metadata": {},
   "outputs": [
    {
     "name": "stdout",
     "output_type": "stream",
     "text": [
      "CustomerID\n",
      "1141    2\n",
      "1278    2\n",
      "1007    2\n",
      "1038    2\n",
      "1496    2\n",
      "       ..\n",
      "1494    1\n",
      "1640    1\n",
      "1967    1\n",
      "1329    1\n",
      "1951    1\n",
      "Name: count, Length: 111, dtype: int64\n",
      "CustomerID\n",
      "1141    2\n",
      "1278    2\n",
      "1007    2\n",
      "1038    2\n",
      "1496    2\n",
      "Name: count, dtype: int64\n"
     ]
    }
   ],
   "source": [
    "    # 2. 주문 횟수가 가장 많은 상위 5명의 고객을 출력하세요.\n",
    "customer_cnt = df['CustomerID'].value_counts()\n",
    "\n",
    "print(customer_cnt)\n",
    "\n",
    "top_5 = customer_cnt.nlargest(5)\n",
    "\n",
    "print(top_5)\n"
   ]
  },
  {
   "cell_type": "code",
   "execution_count": 11,
   "metadata": {},
   "outputs": [
    {
     "name": "stdout",
     "output_type": "stream",
     "text": [
      "   AgeGroup Product     Category  Quantity\n",
      "0       10대      과자         Food         0\n",
      "1       10대      과자         Food         0\n",
      "2       10대      과자         Food         0\n",
      "3       10대      과자         Food         0\n",
      "4       10대      과자         Food         0\n",
      "5       10대      과자         Food         0\n",
      "6       20대     노트북  Electronics         6\n",
      "7       20대     노트북  Electronics         6\n",
      "8       20대     노트북  Electronics         6\n",
      "9       20대     노트북  Electronics         6\n",
      "10      20대     노트북  Electronics         6\n",
      "11      30대     과학책        Books        13\n",
      "12      30대     과학책        Books        13\n",
      "13      30대     과학책        Books        13\n",
      "14      30대     과학책        Books        13\n",
      "15      30대     과학책        Books        13\n",
      "16      40대      향수       Beauty        13\n",
      "17      40대      향수       Beauty        13\n",
      "18      40대      향수       Beauty        13\n",
      "19      40대      향수       Beauty        13\n",
      "20      40대      향수       Beauty        13\n",
      "21      50대      셔츠     Clothing        11\n",
      "22      50대      셔츠     Clothing        11\n",
      "23      50대      셔츠     Clothing        11\n",
      "24      50대      셔츠     Clothing        11\n",
      "25      50대      셔츠     Clothing        11\n",
      "26      50대      셔츠     Clothing        11\n",
      "27      50대      셔츠     Clothing        11\n",
      "28   60대 이상      향수       Beauty         4\n",
      "29   60대 이상      향수       Beauty         4\n",
      "30   60대 이상      향수       Beauty         4\n",
      "31   60대 이상      향수       Beauty         4\n",
      "32   60대 이상      향수       Beauty         4\n"
     ]
    }
   ],
   "source": [
    "    # 3. **연령대**에 따라 고객을 분류하고, 각 연령대별로 가장 많이 구매한 상품의 카테고리를 구하세요.\n",
    "\n",
    "bins = [0, 19, 29, 39, 49, 59, 100]  \n",
    "labels = ['10대', '20대', '30대', '40대', '50대', '60대 이상']  \n",
    "\n",
    "\n",
    "df['Birthdate'] = pd.to_datetime(df['Birthdate'])\n",
    "df['Age'] = (pd.to_datetime('today') - df['Birthdate']).dt.days // 365\n",
    "\n",
    "\n",
    "df['AgeGroup'] = pd.cut(df['Age'], bins=bins, labels=labels, right=False)\n",
    "\n",
    "age_group_top_product = df.groupby(['AgeGroup', 'Product'])['Quantity'].sum().reset_index()\n",
    "\n",
    "\n",
    "top_products = age_group_top_product.loc[age_group_top_product.groupby('AgeGroup')['Quantity'].idxmax()]\n",
    "\n",
    "\n",
    "top_products_with_category = top_products.merge(df[['Product', 'Category']], on='Product', how='left')\n",
    "\n",
    "\n",
    "print(top_products_with_category[['AgeGroup', 'Product', 'Category', 'Quantity']])"
   ]
  },
  {
   "cell_type": "markdown",
   "metadata": {},
   "source": [
    "4. **상품 분석**\n",
    "    1. 가장 많이 판매된 상위 5개의 상품을 출력하세요.\n",
    "    2. **카테고리별**로 가장 많이 판매된 상품을 찾아 출력하세요.\n",
    "    3. **평균 구매 수량**이 가장 높은 상위 3개의 상품을 출력하세요."
   ]
  },
  {
   "cell_type": "code",
   "execution_count": 12,
   "metadata": {},
   "outputs": [
    {
     "name": "stdout",
     "output_type": "stream",
     "text": [
      "Product\n",
      "셔츠     25\n",
      "립스틱    22\n",
      "소설     21\n",
      "역사책    20\n",
      "커피     20\n",
      "Name: Quantity, dtype: int64\n"
     ]
    }
   ],
   "source": [
    "    # 1. 가장 많이 판매된 상위 5개의 상품을 출력하세요.\n",
    "top_selling = df.groupby('Product')['Quantity'].sum()\n",
    "# print(top_selling)\n",
    "\n",
    "top_5 = top_selling.nlargest(5)\n",
    "\n",
    "print(top_5)\n"
   ]
  },
  {
   "cell_type": "code",
   "execution_count": 13,
   "metadata": {},
   "outputs": [
    {
     "name": "stdout",
     "output_type": "stream",
     "text": [
      "Category\n",
      "Beauty              (Beauty, 립스틱)\n",
      "Books                 (Books, 소설)\n",
      "Clothing           (Clothing, 셔츠)\n",
      "Electronics    (Electronics, 노트북)\n",
      "Food                   (Food, 커피)\n",
      "Sports             (Sports, 요가매트)\n",
      "Name: Quantity, dtype: object\n"
     ]
    }
   ],
   "source": [
    "    # 2. **카테고리별**로 가장 많이 판매된 상품을 찾아 출력하세요.\n",
    "category_sales = df.groupby(['Category', 'Product'])['Quantity'].sum()\n",
    "\n",
    "top_selling_in_category = category_sales.groupby('Category').idxmax()\n",
    "\n",
    "print(top_selling_in_category)"
   ]
  },
  {
   "cell_type": "code",
   "execution_count": 14,
   "metadata": {},
   "outputs": [
    {
     "name": "stdout",
     "output_type": "stream",
     "text": [
      "Product\n",
      "자기계발    5.0\n",
      "주스      5.0\n",
      "커피      4.0\n",
      "Name: Quantity, dtype: float64\n"
     ]
    }
   ],
   "source": [
    "    # 3. **평균 구매 수량**이 가장 높은 상위 3개의 상품을 출력하세요.\n",
    "\n",
    "average_quantity = df.groupby('Product')['Quantity'].mean()\n",
    "\n",
    "top_3_avg_quantity = average_quantity.sort_values(ascending=False).head(3)\n",
    "\n",
    "# 3. 결과 출력\n",
    "print(top_3_avg_quantity)"
   ]
  },
  {
   "cell_type": "markdown",
   "metadata": {},
   "source": [
    "5. **시간 분석**\n",
    "    1. 주문 날짜별로 **주별** 매출액을 계산하고 시각화하세요.\n",
    "    2. 특정 기간(예: 2024년 1월 ~ 2024년 6월) 동안의 매출 추이를 분석하고 시각화하세요.\n",
    "    3. 특정 국가에서 가장 많이 주문한 시간대를 분석하고, 이를 시각화하여 인사이트를 도출하세요."
   ]
  },
  {
   "cell_type": "code",
   "execution_count": 15,
   "metadata": {},
   "outputs": [
    {
     "name": "stderr",
     "output_type": "stream",
     "text": [
      "c:\\Users\\leegw\\anaconda3\\envs\\gw\\lib\\site-packages\\IPython\\core\\pylabtools.py:152: UserWarning: Glyph 52509 (\\N{HANGUL SYLLABLE CONG}) missing from current font.\n",
      "  fig.canvas.print_figure(bytes_io, **kw)\n",
      "c:\\Users\\leegw\\anaconda3\\envs\\gw\\lib\\site-packages\\IPython\\core\\pylabtools.py:152: UserWarning: Glyph 47588 (\\N{HANGUL SYLLABLE MAE}) missing from current font.\n",
      "  fig.canvas.print_figure(bytes_io, **kw)\n",
      "c:\\Users\\leegw\\anaconda3\\envs\\gw\\lib\\site-packages\\IPython\\core\\pylabtools.py:152: UserWarning: Glyph 52636 (\\N{HANGUL SYLLABLE CUL}) missing from current font.\n",
      "  fig.canvas.print_figure(bytes_io, **kw)\n",
      "c:\\Users\\leegw\\anaconda3\\envs\\gw\\lib\\site-packages\\IPython\\core\\pylabtools.py:152: UserWarning: Glyph 50529 (\\N{HANGUL SYLLABLE AEG}) missing from current font.\n",
      "  fig.canvas.print_figure(bytes_io, **kw)\n",
      "c:\\Users\\leegw\\anaconda3\\envs\\gw\\lib\\site-packages\\IPython\\core\\pylabtools.py:152: UserWarning: Glyph 50896 (\\N{HANGUL SYLLABLE WEON}) missing from current font.\n",
      "  fig.canvas.print_figure(bytes_io, **kw)\n",
      "c:\\Users\\leegw\\anaconda3\\envs\\gw\\lib\\site-packages\\IPython\\core\\pylabtools.py:152: UserWarning: Glyph 51452 (\\N{HANGUL SYLLABLE JU}) missing from current font.\n",
      "  fig.canvas.print_figure(bytes_io, **kw)\n",
      "c:\\Users\\leegw\\anaconda3\\envs\\gw\\lib\\site-packages\\IPython\\core\\pylabtools.py:152: UserWarning: Glyph 48324 (\\N{HANGUL SYLLABLE BYEOL}) missing from current font.\n",
      "  fig.canvas.print_figure(bytes_io, **kw)\n"
     ]
    },
    {
     "data": {
      "image/png": "[encoded data removed]",
      "text/plain": [
       "<Figure size 1000x600 with 1 Axes>"
      ]
     },
     "metadata": {},
     "output_type": "display_data"
    }
   ],
   "source": [
    "    # 1. 주문 날짜별로 **주별** 매출액을 계산하고 시각화하세요.\n",
    "import numpy as np\n",
    "import pandas as pd\n",
    "df = pd.read_csv('./data/ecommerce_sales_data.csv')\n",
    "df['OrderDate'] = pd.to_datetime(df['OrderDate'])\n",
    "\n",
    "df['TotalRevenue'] = df['Quantity'] * df['Price']\n",
    "\n",
    "df.set_index('OrderDate', inplace=True)\n",
    "\n",
    "weekly_sales = df.resample('W')['TotalRevenue'].sum()\n",
    "\n",
    "plt.figure(figsize=(10, 6))\n",
    "weekly_sales.plot(kind='line')\n",
    "plt.title('주별 총 매출액')\n",
    "plt.xlabel('주')\n",
    "plt.ylabel('총 매출액 (원)')\n",
    "plt.xticks(rotation=45)\n",
    "plt.show()\n"
   ]
  },
  {
   "cell_type": "code",
   "execution_count": 16,
   "metadata": {},
   "outputs": [
    {
     "ename": "KeyError",
     "evalue": "'OrderDate'",
     "output_type": "error",
     "traceback": [
      "\u001b[1;31m---------------------------------------------------------------------------\u001b[0m",
      "\u001b[1;31mKeyError\u001b[0m                                  Traceback (most recent call last)",
      "File \u001b[1;32mc:\\Users\\leegw\\anaconda3\\envs\\gw\\lib\\site-packages\\pandas\\core\\indexes\\base.py:3653\u001b[0m, in \u001b[0;36mIndex.get_loc\u001b[1;34m(self, key)\u001b[0m\n\u001b[0;32m   3652\u001b[0m \u001b[38;5;28;01mtry\u001b[39;00m:\n\u001b[1;32m-> 3653\u001b[0m     \u001b[38;5;28;01mreturn\u001b[39;00m \u001b[38;5;28;43mself\u001b[39;49m\u001b[38;5;241;43m.\u001b[39;49m\u001b[43m_engine\u001b[49m\u001b[38;5;241;43m.\u001b[39;49m\u001b[43mget_loc\u001b[49m\u001b[43m(\u001b[49m\u001b[43mcasted_key\u001b[49m\u001b[43m)\u001b[49m\n\u001b[0;32m   3654\u001b[0m \u001b[38;5;28;01mexcept\u001b[39;00m \u001b[38;5;167;01mKeyError\u001b[39;00m \u001b[38;5;28;01mas\u001b[39;00m err:\n",
      "File \u001b[1;32mc:\\Users\\leegw\\anaconda3\\envs\\gw\\lib\\site-packages\\pandas\\_libs\\index.pyx:147\u001b[0m, in \u001b[0;36mpandas._libs.index.IndexEngine.get_loc\u001b[1;34m()\u001b[0m\n",
      "File \u001b[1;32mc:\\Users\\leegw\\anaconda3\\envs\\gw\\lib\\site-packages\\pandas\\_libs\\index.pyx:176\u001b[0m, in \u001b[0;36mpandas._libs.index.IndexEngine.get_loc\u001b[1;34m()\u001b[0m\n",
      "File \u001b[1;32mpandas\\_libs\\hashtable_class_helper.pxi:7080\u001b[0m, in \u001b[0;36mpandas._libs.hashtable.PyObjectHashTable.get_item\u001b[1;34m()\u001b[0m\n",
      "File \u001b[1;32mpandas\\_libs\\hashtable_class_helper.pxi:7088\u001b[0m, in \u001b[0;36mpandas._libs.hashtable.PyObjectHashTable.get_item\u001b[1;34m()\u001b[0m\n",
      "\u001b[1;31mKeyError\u001b[0m: 'OrderDate'",
      "\nThe above exception was the direct cause of the following exception:\n",
      "\u001b[1;31mKeyError\u001b[0m                                  Traceback (most recent call last)",
      "Cell \u001b[1;32mIn[16], line 3\u001b[0m\n\u001b[0;32m      1\u001b[0m \u001b[38;5;66;03m# 2. 특정 기간(예: 2024년 1월 ~ 2024년 6월) 동안의 매출 추이를 분석하고 시각화하세요.\u001b[39;00m\n\u001b[1;32m----> 3\u001b[0m df[\u001b[38;5;124m'\u001b[39m\u001b[38;5;124mOrderDate\u001b[39m\u001b[38;5;124m'\u001b[39m] \u001b[38;5;241m=\u001b[39m pd\u001b[38;5;241m.\u001b[39mto_datetime(\u001b[43mdf\u001b[49m\u001b[43m[\u001b[49m\u001b[38;5;124;43m'\u001b[39;49m\u001b[38;5;124;43mOrderDate\u001b[39;49m\u001b[38;5;124;43m'\u001b[39;49m\u001b[43m]\u001b[49m)\n\u001b[0;32m      6\u001b[0m start_date \u001b[38;5;241m=\u001b[39m \u001b[38;5;124m'\u001b[39m\u001b[38;5;124m2024-01-01\u001b[39m\u001b[38;5;124m'\u001b[39m\n\u001b[0;32m      7\u001b[0m end_date \u001b[38;5;241m=\u001b[39m \u001b[38;5;124m'\u001b[39m\u001b[38;5;124m2024-06-30\u001b[39m\u001b[38;5;124m'\u001b[39m\n",
      "File \u001b[1;32mc:\\Users\\leegw\\anaconda3\\envs\\gw\\lib\\site-packages\\pandas\\core\\frame.py:3761\u001b[0m, in \u001b[0;36mDataFrame.__getitem__\u001b[1;34m(self, key)\u001b[0m\n\u001b[0;32m   3759\u001b[0m \u001b[38;5;28;01mif\u001b[39;00m \u001b[38;5;28mself\u001b[39m\u001b[38;5;241m.\u001b[39mcolumns\u001b[38;5;241m.\u001b[39mnlevels \u001b[38;5;241m>\u001b[39m \u001b[38;5;241m1\u001b[39m:\n\u001b[0;32m   3760\u001b[0m     \u001b[38;5;28;01mreturn\u001b[39;00m \u001b[38;5;28mself\u001b[39m\u001b[38;5;241m.\u001b[39m_getitem_multilevel(key)\n\u001b[1;32m-> 3761\u001b[0m indexer \u001b[38;5;241m=\u001b[39m \u001b[38;5;28;43mself\u001b[39;49m\u001b[38;5;241;43m.\u001b[39;49m\u001b[43mcolumns\u001b[49m\u001b[38;5;241;43m.\u001b[39;49m\u001b[43mget_loc\u001b[49m\u001b[43m(\u001b[49m\u001b[43mkey\u001b[49m\u001b[43m)\u001b[49m\n\u001b[0;32m   3762\u001b[0m \u001b[38;5;28;01mif\u001b[39;00m is_integer(indexer):\n\u001b[0;32m   3763\u001b[0m     indexer \u001b[38;5;241m=\u001b[39m [indexer]\n",
      "File \u001b[1;32mc:\\Users\\leegw\\anaconda3\\envs\\gw\\lib\\site-packages\\pandas\\core\\indexes\\base.py:3655\u001b[0m, in \u001b[0;36mIndex.get_loc\u001b[1;34m(self, key)\u001b[0m\n\u001b[0;32m   3653\u001b[0m     \u001b[38;5;28;01mreturn\u001b[39;00m \u001b[38;5;28mself\u001b[39m\u001b[38;5;241m.\u001b[39m_engine\u001b[38;5;241m.\u001b[39mget_loc(casted_key)\n\u001b[0;32m   3654\u001b[0m \u001b[38;5;28;01mexcept\u001b[39;00m \u001b[38;5;167;01mKeyError\u001b[39;00m \u001b[38;5;28;01mas\u001b[39;00m err:\n\u001b[1;32m-> 3655\u001b[0m     \u001b[38;5;28;01mraise\u001b[39;00m \u001b[38;5;167;01mKeyError\u001b[39;00m(key) \u001b[38;5;28;01mfrom\u001b[39;00m \u001b[38;5;21;01merr\u001b[39;00m\n\u001b[0;32m   3656\u001b[0m \u001b[38;5;28;01mexcept\u001b[39;00m \u001b[38;5;167;01mTypeError\u001b[39;00m:\n\u001b[0;32m   3657\u001b[0m     \u001b[38;5;66;03m# If we have a listlike key, _check_indexing_error will raise\u001b[39;00m\n\u001b[0;32m   3658\u001b[0m     \u001b[38;5;66;03m#  InvalidIndexError. Otherwise we fall through and re-raise\u001b[39;00m\n\u001b[0;32m   3659\u001b[0m     \u001b[38;5;66;03m#  the TypeError.\u001b[39;00m\n\u001b[0;32m   3660\u001b[0m     \u001b[38;5;28mself\u001b[39m\u001b[38;5;241m.\u001b[39m_check_indexing_error(key)\n",
      "\u001b[1;31mKeyError\u001b[0m: 'OrderDate'"
     ]
    }
   ],
   "source": [
    "    # 2. 특정 기간(예: 2024년 1월 ~ 2024년 6월) 동안의 매출 추이를 분석하고 시각화하세요.\n",
    "\n",
    "df['OrderDate'] = pd.to_datetime(df['OrderDate'])\n",
    "\n",
    "\n",
    "start_date = '2024-01-01'\n",
    "end_date = '2024-06-30'\n",
    "df_filtered = df[(df['OrderDate'] >= start_date) & (df['OrderDate'] <= end_date)]\n",
    "\n",
    "\n",
    "df_filtered['TotalRevenue'] = df_filtered['Quantity'] * df_filtered['Price']\n",
    "\n",
    "monthly_sales = df_filtered.resample('M', on='OrderDate')['TotalRevenue'].sum()\n",
    "\n",
    "# 5. 시각화\n",
    "plt.figure(figsize=(10, 6))\n",
    "monthly_sales.plot(kind='line', marker='o')\n",
    "plt.title('2024년 1월 ~ 2024년 6월 매출 추이')\n",
    "plt.xlabel('월')\n",
    "plt.ylabel('총 매출액 (원)')\n",
    "plt.xticks(rotation=45)\n",
    "plt.show()\n",
    "\n"
   ]
  },
  {
   "cell_type": "code",
   "execution_count": 58,
   "metadata": {},
   "outputs": [
    {
     "name": "stderr",
     "output_type": "stream",
     "text": [
      "C:\\Users\\leegw\\AppData\\Local\\Temp\\ipykernel_15400\\2165817286.py:5: SettingWithCopyWarning: \n",
      "A value is trying to be set on a copy of a slice from a DataFrame.\n",
      "Try using .loc[row_indexer,col_indexer] = value instead\n",
      "\n",
      "See the caveats in the documentation: https://pandas.pydata.org/pandas-docs/stable/user_guide/indexing.html#returning-a-view-versus-a-copy\n",
      "  korea['OrderTime'] = korea['OrderDate'].dt.hour\n",
      "c:\\Users\\leegw\\anaconda3\\envs\\gw\\lib\\site-packages\\IPython\\core\\pylabtools.py:152: UserWarning: Glyph 51452 (\\N{HANGUL SYLLABLE JU}) missing from current font.\n",
      "  fig.canvas.print_figure(bytes_io, **kw)\n",
      "c:\\Users\\leegw\\anaconda3\\envs\\gw\\lib\\site-packages\\IPython\\core\\pylabtools.py:152: UserWarning: Glyph 47928 (\\N{HANGUL SYLLABLE MUN}) missing from current font.\n",
      "  fig.canvas.print_figure(bytes_io, **kw)\n",
      "c:\\Users\\leegw\\anaconda3\\envs\\gw\\lib\\site-packages\\IPython\\core\\pylabtools.py:152: UserWarning: Glyph 49688 (\\N{HANGUL SYLLABLE SU}) missing from current font.\n",
      "  fig.canvas.print_figure(bytes_io, **kw)\n",
      "c:\\Users\\leegw\\anaconda3\\envs\\gw\\lib\\site-packages\\IPython\\core\\pylabtools.py:152: UserWarning: Glyph 48120 (\\N{HANGUL SYLLABLE MI}) missing from current font.\n",
      "  fig.canvas.print_figure(bytes_io, **kw)\n",
      "c:\\Users\\leegw\\anaconda3\\envs\\gw\\lib\\site-packages\\IPython\\core\\pylabtools.py:152: UserWarning: Glyph 44397 (\\N{HANGUL SYLLABLE GUG}) missing from current font.\n",
      "  fig.canvas.print_figure(bytes_io, **kw)\n",
      "c:\\Users\\leegw\\anaconda3\\envs\\gw\\lib\\site-packages\\IPython\\core\\pylabtools.py:152: UserWarning: Glyph 50640 (\\N{HANGUL SYLLABLE E}) missing from current font.\n",
      "  fig.canvas.print_figure(bytes_io, **kw)\n",
      "c:\\Users\\leegw\\anaconda3\\envs\\gw\\lib\\site-packages\\IPython\\core\\pylabtools.py:152: UserWarning: Glyph 49436 (\\N{HANGUL SYLLABLE SEO}) missing from current font.\n",
      "  fig.canvas.print_figure(bytes_io, **kw)\n",
      "c:\\Users\\leegw\\anaconda3\\envs\\gw\\lib\\site-packages\\IPython\\core\\pylabtools.py:152: UserWarning: Glyph 44032 (\\N{HANGUL SYLLABLE GA}) missing from current font.\n",
      "  fig.canvas.print_figure(bytes_io, **kw)\n",
      "c:\\Users\\leegw\\anaconda3\\envs\\gw\\lib\\site-packages\\IPython\\core\\pylabtools.py:152: UserWarning: Glyph 51109 (\\N{HANGUL SYLLABLE JANG}) missing from current font.\n",
      "  fig.canvas.print_figure(bytes_io, **kw)\n",
      "c:\\Users\\leegw\\anaconda3\\envs\\gw\\lib\\site-packages\\IPython\\core\\pylabtools.py:152: UserWarning: Glyph 47566 (\\N{HANGUL SYLLABLE MANH}) missing from current font.\n",
      "  fig.canvas.print_figure(bytes_io, **kw)\n",
      "c:\\Users\\leegw\\anaconda3\\envs\\gw\\lib\\site-packages\\IPython\\core\\pylabtools.py:152: UserWarning: Glyph 51060 (\\N{HANGUL SYLLABLE I}) missing from current font.\n",
      "  fig.canvas.print_figure(bytes_io, **kw)\n",
      "c:\\Users\\leegw\\anaconda3\\envs\\gw\\lib\\site-packages\\IPython\\core\\pylabtools.py:152: UserWarning: Glyph 54620 (\\N{HANGUL SYLLABLE HAN}) missing from current font.\n",
      "  fig.canvas.print_figure(bytes_io, **kw)\n",
      "c:\\Users\\leegw\\anaconda3\\envs\\gw\\lib\\site-packages\\IPython\\core\\pylabtools.py:152: UserWarning: Glyph 49884 (\\N{HANGUL SYLLABLE SI}) missing from current font.\n",
      "  fig.canvas.print_figure(bytes_io, **kw)\n",
      "c:\\Users\\leegw\\anaconda3\\envs\\gw\\lib\\site-packages\\IPython\\core\\pylabtools.py:152: UserWarning: Glyph 44036 (\\N{HANGUL SYLLABLE GAN}) missing from current font.\n",
      "  fig.canvas.print_figure(bytes_io, **kw)\n",
      "c:\\Users\\leegw\\anaconda3\\envs\\gw\\lib\\site-packages\\IPython\\core\\pylabtools.py:152: UserWarning: Glyph 45824 (\\N{HANGUL SYLLABLE DAE}) missing from current font.\n",
      "  fig.canvas.print_figure(bytes_io, **kw)\n"
     ]
    },
    {
     "data": {
      "image/png": "[encoded data removed]",
      "text/plain": [
       "<Figure size 1000x600 with 1 Axes>"
      ]
     },
     "metadata": {},
     "output_type": "display_data"
    }
   ],
   "source": [
    "    # 3. 특정 국가에서 가장 많이 주문한 시간대를 분석하고, 이를 시각화하여 인사이트를 도출하세요.\n",
    "\n",
    "korea = df[df['Country'] == '대한민국']\n",
    "\n",
    "korea['OrderTime'] = korea['OrderDate'].dt.hour  \n",
    "\n",
    "hourly_orders = korea['OrderTime'].value_counts().sort_index()  \n",
    "\n",
    "plt.figure(figsize=(10, 6))\n",
    "hourly_orders.plot(kind='bar', color='skyblue')\n",
    "plt.title('미국에서 가장 많이 주문한 시간대')\n",
    "plt.xlabel('시간대 (24시간)')\n",
    "plt.ylabel('주문 수')\n",
    "plt.xticks(rotation=45)\n",
    "plt.show()\n",
    "print(\"한국인은 출근해서 자리잡고 10시에 주문을 많이 한다!!!!\")"
   ]
  },
  {
   "cell_type": "markdown",
   "metadata": {},
   "source": [
    "6. **추가 분석**\n",
    "    1. 고객의 **재구매율**을 분석하세요.\n",
    "        - 재구매율 = 한 고객이 여러 번 주문한 비율\n",
    "    2. 상품 카테고리별 **할인**을 적용한 판매 데이터를 사용하여 할인율이 높은 카테고리의 매출액을 분석하세요."
   ]
  },
  {
   "cell_type": "code",
   "execution_count": 60,
   "metadata": {},
   "outputs": [
    {
     "name": "stdout",
     "output_type": "stream",
     "text": [
      "재구매율: 8.108108108108109\n"
     ]
    }
   ],
   "source": [
    "# 고객의 **재구매율**을 분석하세요.\n",
    "#         - 재구매율 = 한 고객이 여러 번 주문한 비율\n",
    "\n",
    "customer_order_count = df['CustomerID'].value_counts()\n",
    "\n",
    "repeat_customers = customer_order_count[customer_order_count > 1].count()\n",
    "\n",
    "total_customers = customer_order_count.count()\n",
    "\n",
    "repurchase_rate = (repeat_customers * 100)/ total_customers \n",
    "\n",
    "\n",
    "print(f\"재구매율:\", repurchase_rate)"
   ]
  },
  {
   "cell_type": "code",
   "execution_count": 20,
   "metadata": {},
   "outputs": [
    {
     "data": {
      "text/plain": [
       "Category\n",
       "Food           1473980.0\n",
       "Electronics    1453730.0\n",
       "Beauty         1209380.0\n",
       "Name: RevenueAfterDiscount, dtype: float64"
      ]
     },
     "execution_count": 20,
     "metadata": {},
     "output_type": "execute_result"
    }
   ],
   "source": [
    "    # 2. 상품 카테고리별 **할인**을 적용한 판매 데이터를 사용하여 할인율이 높은 카테고리의 매출액을 분석하세요.\n",
    "\n",
    "df['Afterdiscount'] = df['Price'] * (1- df['DiscountRate'])\n",
    "\n",
    "df['RevenueAfterDiscount'] = df['Quantity'] * df['Afterdiscount']\n",
    "\n",
    "category_sales = df.groupby('Category')['RevenueAfterDiscount'].sum().sort_values(ascending=False)\n",
    "\n",
    "top_categories = category_sales.head(3)\n",
    "\n",
    "top_categories\n",
    "\n",
    "print(\"Food 카테고리가 할인 후 1,473,980원의 매출로 가장 높다다\")\n"
   ]
  }
 ],
 "metadata": {
  "kernelspec": {
   "display_name": "gw",
   "language": "python",
   "name": "python3"
  },
  "language_info": {
   "codemirror_mode": {
    "name": "ipython",
    "version": 3
   },
   "file_extension": ".py",
   "mimetype": "text/x-python",
   "name": "python",
   "nbconvert_exporter": "python",
   "pygments_lexer": "ipython3",
   "version": "3.8.20"
  }
 },
 "nbformat": 4,
 "nbformat_minor": 2
}

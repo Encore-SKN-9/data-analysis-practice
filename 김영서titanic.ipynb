{
 "cells": [
  {
   "cell_type": "code",
   "execution_count": 2,
   "metadata": {},
   "outputs": [],
   "source": [
    "import pandas as pd \n",
    "import numpy as np"
   ]
  },
  {
   "cell_type": "code",
   "execution_count": 3,
   "metadata": {},
   "outputs": [
    {
     "name": "stdout",
     "output_type": "stream",
     "text": [
      "891\n",
      "PassengerId    549\n",
      "Survived       549\n",
      "Pclass         549\n",
      "Name           549\n",
      "Sex            549\n",
      "Age            424\n",
      "SibSp          549\n",
      "Parch          549\n",
      "Ticket         549\n",
      "Fare           549\n",
      "Cabin           68\n",
      "Embarked       549\n",
      "dtype: int64\n",
      "PassengerId    342\n",
      "Survived       342\n",
      "Pclass         342\n",
      "Name           342\n",
      "Sex            342\n",
      "Age            290\n",
      "SibSp          342\n",
      "Parch          342\n",
      "Ticket         342\n",
      "Fare           342\n",
      "Cabin          136\n",
      "Embarked       340\n",
      "dtype: int64\n",
      "29.69911764705882\n",
      "PassengerId    314\n",
      "Survived       314\n",
      "Pclass         314\n",
      "Name           314\n",
      "Sex            314\n",
      "Age            261\n",
      "SibSp          314\n",
      "Parch          314\n",
      "Ticket         314\n",
      "Fare           314\n",
      "Cabin           97\n",
      "Embarked       312\n",
      "dtype: int64\n",
      "PassengerId    113\n",
      "Survived       113\n",
      "Pclass         113\n",
      "Name           113\n",
      "Sex            113\n",
      "Age            113\n",
      "SibSp          113\n",
      "Parch          113\n",
      "Ticket         113\n",
      "Fare           113\n",
      "Cabin           19\n",
      "Embarked       113\n",
      "dtype: int64\n"
     ]
    }
   ],
   "source": [
    "df = pd.read_csv('./data/titanic.csv')\n",
    "df \n",
    "\n",
    "print(df['PassengerId'].count()) # 총인원\n",
    "print(df[df['Survived']==0].count())\n",
    "print(df[df['Survived']==1].count())\n",
    "\n",
    "print(df['Age'].mean()) # 나이 평균\n",
    "\n",
    "print(df[df['Sex']== 'female'].count())\n",
    "\n",
    "\n",
    "print(df[df['Age']<18].count())\n"
   ]
  },
  {
   "cell_type": "code",
   "execution_count": 5,
   "metadata": {},
   "outputs": [
    {
     "name": "stdout",
     "output_type": "stream",
     "text": [
      "Survived\n",
      "0    549\n",
      "1    342\n",
      "Name: count, dtype: int64\n"
     ]
    }
   ],
   "source": [
    "#1\n",
    "survivor = df['Survived'].value_counts()\n",
    "print(survivor)"
   ]
  },
  {
   "cell_type": "code",
   "execution_count": 7,
   "metadata": {},
   "outputs": [
    {
     "name": "stdout",
     "output_type": "stream",
     "text": [
      "29.69911764705882\n"
     ]
    }
   ],
   "source": [
    "#2\n",
    "avg_age = df['Age'].mean()\n",
    "print(avg_age)"
   ]
  },
  {
   "cell_type": "code",
   "execution_count": 9,
   "metadata": {},
   "outputs": [
    {
     "name": "stdout",
     "output_type": "stream",
     "text": [
      "Ward, Miss. Anna\n"
     ]
    }
   ],
   "source": [
    "#3\n",
    "first_c = df[df['Pclass']==1]\n",
    "rich = first_c.loc[first_c['Fare'].idxmax()]\n",
    "print(rich['Name'])"
   ]
  },
  {
   "cell_type": "code",
   "execution_count": 12,
   "metadata": {},
   "outputs": [
    {
     "name": "stdout",
     "output_type": "stream",
     "text": [
      "314\n"
     ]
    }
   ],
   "source": [
    "#4\n",
    "female_count = df[df['Sex']=='female'].shape[0]\n",
    "print(female_count)"
   ]
  },
  {
   "cell_type": "code",
   "execution_count": 14,
   "metadata": {},
   "outputs": [
    {
     "name": "stdout",
     "output_type": "stream",
     "text": [
      "                                                  Name      Fare\n",
      "1    Cumings, Mrs. John Bradley (Florence Briggs Th...   71.2833\n",
      "3         Futrelle, Mrs. Jacques Heath (Lily May Peel)   53.1000\n",
      "6                              McCarthy, Mr. Timothy J   51.8625\n",
      "27                      Fortune, Mr. Charles Alexander  263.0000\n",
      "31      Spencer, Mrs. William Augustus (Marie Eugenie)  146.5208\n",
      "..                                                 ...       ...\n",
      "856         Wick, Mrs. George Dennick (Mary Hitchcock)  164.8667\n",
      "863                  Sage, Miss. Dorothy Edith \"Dolly\"   69.5500\n",
      "867               Roebling, Mr. Washington Augustus II   50.4958\n",
      "871   Beckwith, Mrs. Richard Leonard (Sallie Monypeny)   52.5542\n",
      "879      Potter, Mrs. Thomas Jr (Lily Alexenia Wilson)   83.1583\n",
      "\n",
      "[161 rows x 2 columns]\n"
     ]
    }
   ],
   "source": [
    "#5\n",
    "print(df[df['Fare']>=50][['Name','Fare']])"
   ]
  },
  {
   "cell_type": "code",
   "execution_count": 16,
   "metadata": {},
   "outputs": [
    {
     "name": "stdout",
     "output_type": "stream",
     "text": [
      "0.5398230088495575\n"
     ]
    }
   ],
   "source": [
    "#6\n",
    "student = df[df['Age']<18]\n",
    "survived_student = student['Survived'].mean()\n",
    "print(survived_student)"
   ]
  },
  {
   "cell_type": "code",
   "execution_count": 19,
   "metadata": {},
   "outputs": [
    {
     "name": "stdout",
     "output_type": "stream",
     "text": [
      "20.662183152173913\n"
     ]
    }
   ],
   "source": [
    "#7 \n",
    "print(df[df['Pclass']==2]['Fare'].mean())\n"
   ]
  },
  {
   "cell_type": "code",
   "execution_count": 21,
   "metadata": {},
   "outputs": [
    {
     "name": "stdout",
     "output_type": "stream",
     "text": [
      "Barkworth, Mr. Algernon Henry Wilson 80.0\n"
     ]
    }
   ],
   "source": [
    "#8\n",
    "old_person = df.loc[df['Age'].idxmax()]\n",
    "print(old_person['Name'],old_person['Age'])"
   ]
  },
  {
   "cell_type": "code",
   "execution_count": 28,
   "metadata": {},
   "outputs": [
    {
     "data": {
      "text/plain": [
       "PassengerId    644\n",
       "Survived       644\n",
       "Pclass         644\n",
       "Name           644\n",
       "Sex            644\n",
       "Age            554\n",
       "SibSp          644\n",
       "Parch          644\n",
       "Ticket         644\n",
       "Fare           644\n",
       "Cabin          129\n",
       "Embarked       644\n",
       "dtype: int64"
      ]
     },
     "execution_count": 28,
     "metadata": {},
     "output_type": "execute_result"
    }
   ],
   "source": [
    "#9\n",
    "df[df['Embarked']=='S'].count()\n"
   ]
  },
  {
   "cell_type": "code",
   "execution_count": 31,
   "metadata": {},
   "outputs": [
    {
     "name": "stdout",
     "output_type": "stream",
     "text": [
      "47\n"
     ]
    }
   ],
   "source": [
    "#10\n",
    "print(df[(df['Pclass']==3) & (df['Sex']=='male')]['Survived'].sum())"
   ]
  },
  {
   "cell_type": "code",
   "execution_count": null,
   "metadata": {},
   "outputs": [],
   "source": []
  }
 ],
 "metadata": {
  "kernelspec": {
   "display_name": "pystudy_env",
   "language": "python",
   "name": "python3"
  },
  "language_info": {
   "codemirror_mode": {
    "name": "ipython",
    "version": 3
   },
   "file_extension": ".py",
   "mimetype": "text/x-python",
   "name": "python",
   "nbconvert_exporter": "python",
   "pygments_lexer": "ipython3",
   "version": "3.12.8"
  }
 },
 "nbformat": 4,
 "nbformat_minor": 2
}

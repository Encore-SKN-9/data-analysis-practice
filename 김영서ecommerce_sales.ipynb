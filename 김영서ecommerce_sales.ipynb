{
 "cells": [
  {
   "cell_type": "code",
   "execution_count": 1,
   "metadata": {},
   "outputs": [],
   "source": [
    "import numpy as np \n",
    "import pandas as pd \n",
    "import matplotlib.pyplot as plt"
   ]
  },
  {
   "cell_type": "code",
   "execution_count": null,
   "metadata": {},
   "outputs": [
    {
     "data": {
      "text/html": [
       "<div>\n",
       "<style scoped>\n",
       "    .dataframe tbody tr th:only-of-type {\n",
       "        vertical-align: middle;\n",
       "    }\n",
       "\n",
       "    .dataframe tbody tr th {\n",
       "        vertical-align: top;\n",
       "    }\n",
       "\n",
       "    .dataframe thead th {\n",
       "        text-align: right;\n",
       "    }\n",
       "</style>\n",
       "<table border=\"1\" class=\"dataframe\">\n",
       "  <thead>\n",
       "    <tr style=\"text-align: right;\">\n",
       "      <th></th>\n",
       "      <th>OrderID</th>\n",
       "      <th>Product</th>\n",
       "      <th>Category</th>\n",
       "      <th>Quantity</th>\n",
       "      <th>Price</th>\n",
       "      <th>CustomerID</th>\n",
       "      <th>Birthdate</th>\n",
       "      <th>OrderDate</th>\n",
       "      <th>Country</th>\n",
       "      <th>DiscountRate</th>\n",
       "    </tr>\n",
       "  </thead>\n",
       "  <tbody>\n",
       "    <tr>\n",
       "      <th>0</th>\n",
       "      <td>1</td>\n",
       "      <td>역사책</td>\n",
       "      <td>Books</td>\n",
       "      <td>5</td>\n",
       "      <td>37000</td>\n",
       "      <td>1071</td>\n",
       "      <td>1980-08-08</td>\n",
       "      <td>2024-06-10 17:18</td>\n",
       "      <td>미국</td>\n",
       "      <td>0.14</td>\n",
       "    </tr>\n",
       "    <tr>\n",
       "      <th>1</th>\n",
       "      <td>2</td>\n",
       "      <td>셔츠</td>\n",
       "      <td>Clothing</td>\n",
       "      <td>5</td>\n",
       "      <td>20000</td>\n",
       "      <td>1526</td>\n",
       "      <td>1967-08-09</td>\n",
       "      <td>2023-11-18 18:45</td>\n",
       "      <td>독일</td>\n",
       "      <td>0.29</td>\n",
       "    </tr>\n",
       "    <tr>\n",
       "      <th>2</th>\n",
       "      <td>3</td>\n",
       "      <td>노트북</td>\n",
       "      <td>Electronics</td>\n",
       "      <td>4</td>\n",
       "      <td>8000</td>\n",
       "      <td>1252</td>\n",
       "      <td>1973-04-07</td>\n",
       "      <td>2023-10-15 11:19</td>\n",
       "      <td>중국</td>\n",
       "      <td>0.23</td>\n",
       "    </tr>\n",
       "    <tr>\n",
       "      <th>3</th>\n",
       "      <td>4</td>\n",
       "      <td>자전거</td>\n",
       "      <td>Sports</td>\n",
       "      <td>1</td>\n",
       "      <td>8000</td>\n",
       "      <td>1670</td>\n",
       "      <td>1970-04-08</td>\n",
       "      <td>2024-07-19 2:19</td>\n",
       "      <td>일본</td>\n",
       "      <td>0.20</td>\n",
       "    </tr>\n",
       "    <tr>\n",
       "      <th>4</th>\n",
       "      <td>5</td>\n",
       "      <td>헤드폰</td>\n",
       "      <td>Electronics</td>\n",
       "      <td>3</td>\n",
       "      <td>26000</td>\n",
       "      <td>1838</td>\n",
       "      <td>1992-05-19</td>\n",
       "      <td>2024-01-20 20:34</td>\n",
       "      <td>대한민국</td>\n",
       "      <td>0.09</td>\n",
       "    </tr>\n",
       "    <tr>\n",
       "      <th>...</th>\n",
       "      <td>...</td>\n",
       "      <td>...</td>\n",
       "      <td>...</td>\n",
       "      <td>...</td>\n",
       "      <td>...</td>\n",
       "      <td>...</td>\n",
       "      <td>...</td>\n",
       "      <td>...</td>\n",
       "      <td>...</td>\n",
       "      <td>...</td>\n",
       "    </tr>\n",
       "    <tr>\n",
       "      <th>115</th>\n",
       "      <td>116</td>\n",
       "      <td>스마트워치</td>\n",
       "      <td>Electronics</td>\n",
       "      <td>1</td>\n",
       "      <td>33000</td>\n",
       "      <td>1508</td>\n",
       "      <td>1971-01-02</td>\n",
       "      <td>2024-03-01 16:57</td>\n",
       "      <td>독일</td>\n",
       "      <td>0.20</td>\n",
       "    </tr>\n",
       "    <tr>\n",
       "      <th>116</th>\n",
       "      <td>117</td>\n",
       "      <td>스마트워치</td>\n",
       "      <td>Electronics</td>\n",
       "      <td>4</td>\n",
       "      <td>41000</td>\n",
       "      <td>1645</td>\n",
       "      <td>1975-03-15</td>\n",
       "      <td>2024-01-18 21:37</td>\n",
       "      <td>대한민국</td>\n",
       "      <td>0.09</td>\n",
       "    </tr>\n",
       "    <tr>\n",
       "      <th>117</th>\n",
       "      <td>118</td>\n",
       "      <td>태블릿</td>\n",
       "      <td>Electronics</td>\n",
       "      <td>1</td>\n",
       "      <td>33000</td>\n",
       "      <td>1433</td>\n",
       "      <td>1965-02-01</td>\n",
       "      <td>2024-09-29 12:27</td>\n",
       "      <td>독일</td>\n",
       "      <td>0.09</td>\n",
       "    </tr>\n",
       "    <tr>\n",
       "      <th>118</th>\n",
       "      <td>119</td>\n",
       "      <td>청바지</td>\n",
       "      <td>Clothing</td>\n",
       "      <td>2</td>\n",
       "      <td>43000</td>\n",
       "      <td>1497</td>\n",
       "      <td>1980-04-02</td>\n",
       "      <td>2024-06-10 9:01</td>\n",
       "      <td>독일</td>\n",
       "      <td>0.06</td>\n",
       "    </tr>\n",
       "    <tr>\n",
       "      <th>119</th>\n",
       "      <td>120</td>\n",
       "      <td>과자</td>\n",
       "      <td>Food</td>\n",
       "      <td>1</td>\n",
       "      <td>48000</td>\n",
       "      <td>1951</td>\n",
       "      <td>1989-11-28</td>\n",
       "      <td>2024-06-29 10:28</td>\n",
       "      <td>미국</td>\n",
       "      <td>0.27</td>\n",
       "    </tr>\n",
       "  </tbody>\n",
       "</table>\n",
       "<p>120 rows × 10 columns</p>\n",
       "</div>"
      ],
      "text/plain": [
       "     OrderID Product     Category  Quantity  Price  CustomerID   Birthdate  \\\n",
       "0          1     역사책        Books         5  37000        1071  1980-08-08   \n",
       "1          2      셔츠     Clothing         5  20000        1526  1967-08-09   \n",
       "2          3     노트북  Electronics         4   8000        1252  1973-04-07   \n",
       "3          4     자전거       Sports         1   8000        1670  1970-04-08   \n",
       "4          5     헤드폰  Electronics         3  26000        1838  1992-05-19   \n",
       "..       ...     ...          ...       ...    ...         ...         ...   \n",
       "115      116   스마트워치  Electronics         1  33000        1508  1971-01-02   \n",
       "116      117   스마트워치  Electronics         4  41000        1645  1975-03-15   \n",
       "117      118     태블릿  Electronics         1  33000        1433  1965-02-01   \n",
       "118      119     청바지     Clothing         2  43000        1497  1980-04-02   \n",
       "119      120      과자         Food         1  48000        1951  1989-11-28   \n",
       "\n",
       "            OrderDate Country  DiscountRate  \n",
       "0    2024-06-10 17:18      미국          0.14  \n",
       "1    2023-11-18 18:45      독일          0.29  \n",
       "2    2023-10-15 11:19      중국          0.23  \n",
       "3     2024-07-19 2:19      일본          0.20  \n",
       "4    2024-01-20 20:34    대한민국          0.09  \n",
       "..                ...     ...           ...  \n",
       "115  2024-03-01 16:57      독일          0.20  \n",
       "116  2024-01-18 21:37    대한민국          0.09  \n",
       "117  2024-09-29 12:27      독일          0.09  \n",
       "118   2024-06-10 9:01      독일          0.06  \n",
       "119  2024-06-29 10:28      미국          0.27  \n",
       "\n",
       "[120 rows x 10 columns]"
      ]
     },
     "execution_count": 2,
     "metadata": {},
     "output_type": "execute_result"
    }
   ],
   "source": [
    "# 1.\n",
    "df = pd.read_csv('./data/ecommerce_sales_data.csv')\n",
    "df"
   ]
  },
  {
   "cell_type": "code",
   "execution_count": 3,
   "metadata": {},
   "outputs": [
    {
     "name": "stdout",
     "output_type": "stream",
     "text": [
      "   OrderID Product     Category  Quantity  Price  CustomerID   Birthdate  \\\n",
      "0        1     역사책        Books         5  37000        1071  1980-08-08   \n",
      "1        2      셔츠     Clothing         5  20000        1526  1967-08-09   \n",
      "2        3     노트북  Electronics         4   8000        1252  1973-04-07   \n",
      "3        4     자전거       Sports         1   8000        1670  1970-04-08   \n",
      "4        5     헤드폰  Electronics         3  26000        1838  1992-05-19   \n",
      "\n",
      "          OrderDate Country  DiscountRate  \n",
      "0  2024-06-10 17:18      미국          0.14  \n",
      "1  2023-11-18 18:45      독일          0.29  \n",
      "2  2023-10-15 11:19      중국          0.23  \n",
      "3   2024-07-19 2:19      일본          0.20  \n",
      "4  2024-01-20 20:34    대한민국          0.09  \n"
     ]
    }
   ],
   "source": [
    "print(df.head())"
   ]
  },
  {
   "cell_type": "code",
   "execution_count": 4,
   "metadata": {},
   "outputs": [
    {
     "name": "stdout",
     "output_type": "stream",
     "text": [
      "<class 'pandas.core.frame.DataFrame'>\n",
      "RangeIndex: 120 entries, 0 to 119\n",
      "Data columns (total 10 columns):\n",
      " #   Column        Non-Null Count  Dtype  \n",
      "---  ------        --------------  -----  \n",
      " 0   OrderID       120 non-null    int64  \n",
      " 1   Product       120 non-null    object \n",
      " 2   Category      120 non-null    object \n",
      " 3   Quantity      120 non-null    int64  \n",
      " 4   Price         120 non-null    int64  \n",
      " 5   CustomerID    120 non-null    int64  \n",
      " 6   Birthdate     120 non-null    object \n",
      " 7   OrderDate     120 non-null    object \n",
      " 8   Country       120 non-null    object \n",
      " 9   DiscountRate  119 non-null    float64\n",
      "dtypes: float64(1), int64(4), object(5)\n",
      "memory usage: 9.5+ KB\n"
     ]
    }
   ],
   "source": [
    "df.info()"
   ]
  },
  {
   "cell_type": "code",
   "execution_count": 5,
   "metadata": {},
   "outputs": [
    {
     "data": {
      "text/html": [
       "<div>\n",
       "<style scoped>\n",
       "    .dataframe tbody tr th:only-of-type {\n",
       "        vertical-align: middle;\n",
       "    }\n",
       "\n",
       "    .dataframe tbody tr th {\n",
       "        vertical-align: top;\n",
       "    }\n",
       "\n",
       "    .dataframe thead th {\n",
       "        text-align: right;\n",
       "    }\n",
       "</style>\n",
       "<table border=\"1\" class=\"dataframe\">\n",
       "  <thead>\n",
       "    <tr style=\"text-align: right;\">\n",
       "      <th></th>\n",
       "      <th>OrderID</th>\n",
       "      <th>Quantity</th>\n",
       "      <th>Price</th>\n",
       "      <th>CustomerID</th>\n",
       "      <th>DiscountRate</th>\n",
       "    </tr>\n",
       "  </thead>\n",
       "  <tbody>\n",
       "    <tr>\n",
       "      <th>count</th>\n",
       "      <td>120.000000</td>\n",
       "      <td>120.000000</td>\n",
       "      <td>120.000000</td>\n",
       "      <td>120.000000</td>\n",
       "      <td>119.000000</td>\n",
       "    </tr>\n",
       "    <tr>\n",
       "      <th>mean</th>\n",
       "      <td>60.500000</td>\n",
       "      <td>2.941667</td>\n",
       "      <td>25625.000000</td>\n",
       "      <td>1469.158333</td>\n",
       "      <td>0.174286</td>\n",
       "    </tr>\n",
       "    <tr>\n",
       "      <th>std</th>\n",
       "      <td>34.785054</td>\n",
       "      <td>1.485481</td>\n",
       "      <td>14127.904624</td>\n",
       "      <td>272.327811</td>\n",
       "      <td>0.079315</td>\n",
       "    </tr>\n",
       "    <tr>\n",
       "      <th>min</th>\n",
       "      <td>1.000000</td>\n",
       "      <td>1.000000</td>\n",
       "      <td>5000.000000</td>\n",
       "      <td>1007.000000</td>\n",
       "      <td>0.060000</td>\n",
       "    </tr>\n",
       "    <tr>\n",
       "      <th>25%</th>\n",
       "      <td>30.750000</td>\n",
       "      <td>1.000000</td>\n",
       "      <td>13000.000000</td>\n",
       "      <td>1244.500000</td>\n",
       "      <td>0.090000</td>\n",
       "    </tr>\n",
       "    <tr>\n",
       "      <th>50%</th>\n",
       "      <td>60.500000</td>\n",
       "      <td>3.000000</td>\n",
       "      <td>25000.000000</td>\n",
       "      <td>1491.000000</td>\n",
       "      <td>0.200000</td>\n",
       "    </tr>\n",
       "    <tr>\n",
       "      <th>75%</th>\n",
       "      <td>90.250000</td>\n",
       "      <td>4.000000</td>\n",
       "      <td>38000.000000</td>\n",
       "      <td>1670.750000</td>\n",
       "      <td>0.230000</td>\n",
       "    </tr>\n",
       "    <tr>\n",
       "      <th>max</th>\n",
       "      <td>120.000000</td>\n",
       "      <td>5.000000</td>\n",
       "      <td>50000.000000</td>\n",
       "      <td>1982.000000</td>\n",
       "      <td>0.300000</td>\n",
       "    </tr>\n",
       "  </tbody>\n",
       "</table>\n",
       "</div>"
      ],
      "text/plain": [
       "          OrderID    Quantity         Price   CustomerID  DiscountRate\n",
       "count  120.000000  120.000000    120.000000   120.000000    119.000000\n",
       "mean    60.500000    2.941667  25625.000000  1469.158333      0.174286\n",
       "std     34.785054    1.485481  14127.904624   272.327811      0.079315\n",
       "min      1.000000    1.000000   5000.000000  1007.000000      0.060000\n",
       "25%     30.750000    1.000000  13000.000000  1244.500000      0.090000\n",
       "50%     60.500000    3.000000  25000.000000  1491.000000      0.200000\n",
       "75%     90.250000    4.000000  38000.000000  1670.750000      0.230000\n",
       "max    120.000000    5.000000  50000.000000  1982.000000      0.300000"
      ]
     },
     "execution_count": 5,
     "metadata": {},
     "output_type": "execute_result"
    }
   ],
   "source": [
    "df.describe()"
   ]
  },
  {
   "cell_type": "code",
   "execution_count": 6,
   "metadata": {},
   "outputs": [
    {
     "data": {
      "text/plain": [
       "OrderID         0\n",
       "Product         0\n",
       "Category        0\n",
       "Quantity        0\n",
       "Price           0\n",
       "CustomerID      0\n",
       "Birthdate       0\n",
       "OrderDate       0\n",
       "Country         0\n",
       "DiscountRate    1\n",
       "dtype: int64"
      ]
     },
     "execution_count": 6,
     "metadata": {},
     "output_type": "execute_result"
    }
   ],
   "source": [
    "df.isnull().sum()"
   ]
  },
  {
   "cell_type": "code",
   "execution_count": 15,
   "metadata": {},
   "outputs": [
    {
     "name": "stderr",
     "output_type": "stream",
     "text": [
      "C:\\Users\\woori\\AppData\\Local\\Temp\\ipykernel_79832\\453981585.py:1: FutureWarning: A value is trying to be set on a copy of a DataFrame or Series through chained assignment using an inplace method.\n",
      "The behavior will change in pandas 3.0. This inplace method will never work because the intermediate object on which we are setting values always behaves as a copy.\n",
      "\n",
      "For example, when doing 'df[col].method(value, inplace=True)', try using 'df.method({col: value}, inplace=True)' or df[col] = df[col].method(value) instead, to perform the operation inplace on the original object.\n",
      "\n",
      "\n",
      "  df['DiscountRate'] = df['DiscountRate'].fillna(df['DiscountRate'].mean(),inplace=True)\n"
     ]
    }
   ],
   "source": [
    "df['DiscountRate'] = df['DiscountRate'].fillna(df['DiscountRate'].mean(),inplace=True)"
   ]
  },
  {
   "cell_type": "code",
   "execution_count": 8,
   "metadata": {},
   "outputs": [
    {
     "name": "stdout",
     "output_type": "stream",
     "text": [
      "<class 'pandas.core.frame.DataFrame'>\n",
      "RangeIndex: 120 entries, 0 to 119\n",
      "Data columns (total 10 columns):\n",
      " #   Column        Non-Null Count  Dtype  \n",
      "---  ------        --------------  -----  \n",
      " 0   OrderID       120 non-null    int64  \n",
      " 1   Product       120 non-null    object \n",
      " 2   Category      120 non-null    object \n",
      " 3   Quantity      120 non-null    int64  \n",
      " 4   Price         120 non-null    int64  \n",
      " 5   CustomerID    120 non-null    int64  \n",
      " 6   Birthdate     120 non-null    object \n",
      " 7   OrderDate     120 non-null    object \n",
      " 8   Country       120 non-null    object \n",
      " 9   DiscountRate  120 non-null    float64\n",
      "dtypes: float64(1), int64(4), object(5)\n",
      "memory usage: 9.5+ KB\n"
     ]
    }
   ],
   "source": [
    "df.info()"
   ]
  },
  {
   "cell_type": "code",
   "execution_count": 9,
   "metadata": {},
   "outputs": [
    {
     "data": {
      "text/plain": [
       "OrderID           int64\n",
       "Product          object\n",
       "Category         object\n",
       "Quantity          int64\n",
       "Price             int64\n",
       "CustomerID        int64\n",
       "Birthdate        object\n",
       "OrderDate        object\n",
       "Country          object\n",
       "DiscountRate    float64\n",
       "dtype: object"
      ]
     },
     "execution_count": 9,
     "metadata": {},
     "output_type": "execute_result"
    }
   ],
   "source": [
    "df.dtypes"
   ]
  },
  {
   "cell_type": "code",
   "execution_count": 10,
   "metadata": {},
   "outputs": [],
   "source": [
    "df['OverDate']=pd.to_datetime(df['OrderDate'])"
   ]
  },
  {
   "cell_type": "code",
   "execution_count": 11,
   "metadata": {},
   "outputs": [
    {
     "data": {
      "text/plain": [
       "OrderID                  int64\n",
       "Product                 object\n",
       "Category                object\n",
       "Quantity                 int64\n",
       "Price                    int64\n",
       "CustomerID               int64\n",
       "Birthdate               object\n",
       "OrderDate               object\n",
       "Country                 object\n",
       "DiscountRate           float64\n",
       "OverDate        datetime64[ns]\n",
       "dtype: object"
      ]
     },
     "execution_count": 11,
     "metadata": {},
     "output_type": "execute_result"
    }
   ],
   "source": [
    "df.dtypes"
   ]
  },
  {
   "cell_type": "code",
   "execution_count": null,
   "metadata": {},
   "outputs": [
    {
     "name": "stdout",
     "output_type": "stream",
     "text": [
      "   OrderID Product     Category  Quantity  Price  CustomerID   Birthdate  \\\n",
      "0        1     역사책        Books         5  37000        1071  1980-08-08   \n",
      "1        2      셔츠     Clothing         5  20000        1526  1967-08-09   \n",
      "2        3     노트북  Electronics         4   8000        1252  1973-04-07   \n",
      "3        4     자전거       Sports         1   8000        1670  1970-04-08   \n",
      "4        5     헤드폰  Electronics         3  26000        1838  1992-05-19   \n",
      "\n",
      "          OrderDate Country DiscountRate            OverDate  Total_sales  \n",
      "0  2024-06-10 17:18      미국         None 2024-06-10 17:18:00       185000  \n",
      "1  2023-11-18 18:45      독일         None 2023-11-18 18:45:00       100000  \n",
      "2  2023-10-15 11:19      중국         None 2023-10-15 11:19:00        32000  \n",
      "3   2024-07-19 2:19      일본         None 2024-07-19 02:19:00         8000  \n",
      "4  2024-01-20 20:34    대한민국         None 2024-01-20 20:34:00        78000  \n",
      "OverDate\n",
      "2023-10     392000\n",
      "2023-11     995000\n",
      "2023-12     920000\n",
      "2024-01     905000\n",
      "2024-02     565000\n",
      "2024-03     703000\n",
      "2024-04     288000\n",
      "2024-05     930000\n",
      "2024-06    1365000\n",
      "2024-07     712000\n",
      "2024-08     635000\n",
      "2024-09     319000\n",
      "2024-10     190000\n",
      "Freq: M, Name: Total_sales, dtype: int64\n"
     ]
    }
   ],
   "source": [
    "# 2.a\n",
    "\n",
    "df['Total_sales'] = df['Quantity'] * df['Price']\n",
    "print(df.head())\n",
    "\n",
    "df['OverDate']=pd.to_datetime(df['OrderDate'])\n",
    "\n",
    "monthly_total = df.groupby(df['OverDate'].dt.to_period('M'))['Total_sales'].sum()\n",
    "\n",
    "print(monthly_total)"
   ]
  },
  {
   "cell_type": "code",
   "execution_count": null,
   "metadata": {},
   "outputs": [
    {
     "name": "stderr",
     "output_type": "stream",
     "text": [
      "C:\\Users\\woori\\AppData\\Local\\Temp\\ipykernel_79832\\2042404363.py:1: FutureWarning: 'M' is deprecated and will be removed in a future version, please use 'ME' instead.\n",
      "  monthly_total = df.resample('M',on ='OverDate')['Total_sales'].sum()\n"
     ]
    },
    {
     "data": {
      "image/png": "[encoded data removed]",
      "text/plain": [
       "<Figure size 1000x600 with 1 Axes>"
      ]
     },
     "metadata": {},
     "output_type": "display_data"
    }
   ],
   "source": [
    "#2.b\n",
    "\n",
    "monthly_total = df.resample('M',on ='OverDate')['Total_sales'].sum()\n",
    "\n",
    "monthly_total.plot(kind= 'line', figsize=(10,6))\n",
    "plt.title('Monthly Total')\n",
    "plt.xlabel('Month')\n",
    "plt.ylabel('Total_sales')\n",
    "plt.grid()\n",
    "plt.legend()\n",
    "plt.show()"
   ]
  },
  {
   "cell_type": "code",
   "execution_count": 26,
   "metadata": {},
   "outputs": [
    {
     "name": "stdout",
     "output_type": "stream",
     "text": [
      "Category\n",
      "Food           1966000\n",
      "Electronics    1746000\n",
      "Beauty         1493000\n",
      "Name: Total_sales, dtype: int64\n"
     ]
    }
   ],
   "source": [
    "#2.c\n",
    "\n",
    "category_total = df.groupby('Category')['Total_sales'].sum()\n",
    "print(category_total.nlargest(3))\n",
    "\n"
   ]
  },
  {
   "cell_type": "code",
   "execution_count": 20,
   "metadata": {},
   "outputs": [
    {
     "name": "stdout",
     "output_type": "stream",
     "text": [
      "Country\n",
      "미국      2238000\n",
      "독일      1973000\n",
      "중국      1766000\n",
      "일본      1523000\n",
      "대한민국    1419000\n",
      "Name: Total_sales, dtype: int64\n"
     ]
    }
   ],
   "source": [
    "# 2.d \n",
    "\n",
    "country_sales = df.groupby('Country')['Total_sales'].sum()\n",
    "top_countries = country_sales.nlargest(5)\n",
    "\n",
    "print(top_countries)"
   ]
  },
  {
   "cell_type": "code",
   "execution_count": 27,
   "metadata": {},
   "outputs": [
    {
     "name": "stdout",
     "output_type": "stream",
     "text": [
      "CustomerID\n",
      "1007    334000\n",
      "1354    245000\n",
      "1141    241000\n",
      "1589    215000\n",
      "1632    192000\n",
      "Name: Total_sales, dtype: int64\n"
     ]
    }
   ],
   "source": [
    "# 3.a\n",
    "\n",
    "customer_sales = df.groupby('CustomerID')['Total_sales'].sum()\n",
    "top_customers = customer_sales.nlargest(5)\n",
    "\n",
    "print(top_customers)"
   ]
  },
  {
   "cell_type": "code",
   "execution_count": 30,
   "metadata": {},
   "outputs": [
    {
     "name": "stdout",
     "output_type": "stream",
     "text": [
      "CustomerID\n",
      "1007    2\n",
      "1038    2\n",
      "1141    2\n",
      "1206    2\n",
      "1278    2\n",
      "dtype: int64\n"
     ]
    }
   ],
   "source": [
    "# 3.b\n",
    "\n",
    "customer_orders = df.groupby('CustomerID').size()\n",
    "\n",
    "top_order_customers = customer_orders.nlargest(5)\n",
    "print(top_order_customers)"
   ]
  },
  {
   "cell_type": "code",
   "execution_count": 36,
   "metadata": {},
   "outputs": [],
   "source": [
    "# # 3.c\n",
    "\n",
    "# df['Age'] = 2025 - pd.to_datetime(df['Birthdate']).dt.year\n",
    "\n",
    "# bins = [18,30,40,50,60,100]\n",
    "# labels = ['<18','18-30','31-40','41-50','51-60','60+']\n",
    "# df['AgeGroup'] = pd.cut(df['Age'], bins=bins, labels = labels)\n",
    "\n",
    "# age_group_top = df.groupby('AgeGroup')['Category'].agg(lambda x: x.mode()[0])\n",
    "# print(age_group_top)"
   ]
  },
  {
   "cell_type": "code",
   "execution_count": 38,
   "metadata": {},
   "outputs": [
    {
     "name": "stdout",
     "output_type": "stream",
     "text": [
      "Product\n",
      "셔츠     25\n",
      "립스틱    22\n",
      "소설     21\n",
      "역사책    20\n",
      "커피     20\n",
      "Name: Quantity, dtype: int64\n"
     ]
    }
   ],
   "source": [
    "# 4.a \n",
    "top_sold = df.groupby('Product')['Quantity'].sum()\n",
    "top_5 = top_sold.nlargest(5)\n",
    "print(top_5)"
   ]
  },
  {
   "cell_type": "code",
   "execution_count": 40,
   "metadata": {},
   "outputs": [
    {
     "name": "stdout",
     "output_type": "stream",
     "text": [
      "Category\n",
      "Beauty         립스틱\n",
      "Books           소설\n",
      "Clothing        셔츠\n",
      "Electronics    노트북\n",
      "Food            과자\n",
      "Sports         축구공\n",
      "Name: Product, dtype: object\n"
     ]
    }
   ],
   "source": [
    "# 4.b\n",
    "\n",
    "category_top = df.groupby('Category')['Product'].agg(lambda x: x.mode()[0])\n",
    "print(category_top)"
   ]
  },
  {
   "cell_type": "code",
   "execution_count": 42,
   "metadata": {},
   "outputs": [
    {
     "name": "stdout",
     "output_type": "stream",
     "text": [
      "Product\n",
      "자기계발    5.0\n",
      "주스      5.0\n",
      "요가매트    4.0\n",
      "Name: Quantity, dtype: float64\n"
     ]
    }
   ],
   "source": [
    "# 4.c\n",
    "\n",
    "avg_quantity = df.groupby('Product')['Quantity'].mean()\n",
    "top_3_avg = avg_quantity.nlargest(3)\n",
    "print(top_3_avg)\n"
   ]
  },
  {
   "cell_type": "code",
   "execution_count": 49,
   "metadata": {},
   "outputs": [
    {
     "data": {
      "image/png": "[encoded data removed]",
      "text/plain": [
       "<Figure size 1000x600 with 1 Axes>"
      ]
     },
     "metadata": {},
     "output_type": "display_data"
    }
   ],
   "source": [
    "# 5.a\n",
    "\n",
    "weekly_sales = df.resample('W', on='OverDate')['Total_sales'].sum()\n",
    "\n",
    "weekly_sales.plot(kind= 'hist', figsize=(10,6))\n",
    "plt.title('Weekly Total sales')\n",
    "plt.xlabel('Week')\n",
    "plt.ylabel('Total sales')\n",
    "plt.grid()\n",
    "plt.show()"
   ]
  },
  {
   "cell_type": "code",
   "execution_count": 52,
   "metadata": {},
   "outputs": [
    {
     "name": "stderr",
     "output_type": "stream",
     "text": [
      "C:\\Users\\woori\\AppData\\Local\\Temp\\ipykernel_79832\\657515013.py:7: FutureWarning: 'M' is deprecated and will be removed in a future version, please use 'ME' instead.\n",
      "  monthly_sales = period_sales.resample('M', on='OverDate')['Total_sales'].sum()\n"
     ]
    },
    {
     "data": {
      "image/png": "[encoded data removed]",
      "text/plain": [
       "<Figure size 1000x600 with 1 Axes>"
      ]
     },
     "metadata": {},
     "output_type": "display_data"
    }
   ],
   "source": [
    "# 5.b\n",
    "\n",
    "start = '2024-01-01'\n",
    "end = '2024-06-30'\n",
    "period_sales = df[(df['OrderDate']>=start)& (df['OverDate']<=end)]\n",
    "\n",
    "monthly_sales = period_sales.resample('M', on='OverDate')['Total_sales'].sum()\n",
    "monthly_sales.plot(kind='bar', figsize=(10,6))\n",
    "plt.title('Jan 2024 - June 2024')\n",
    "plt.xlabel('Month')\n",
    "plt.ylabel('Total_sales')\n",
    "plt.grid()\n",
    "plt.show()"
   ]
  },
  {
   "cell_type": "code",
   "execution_count": 57,
   "metadata": {},
   "outputs": [
    {
     "name": "stderr",
     "output_type": "stream",
     "text": [
      "C:\\Users\\woori\\AppData\\Local\\Temp\\ipykernel_79832\\2944604590.py:14: UserWarning: No artists with labels found to put in legend.  Note that artists whose label start with an underscore are ignored when legend() is called with no argument.\n",
      "  plt.legend()\n"
     ]
    },
    {
     "data": {
      "image/png": "[encoded data removed]",
      "text/plain": [
       "<Figure size 1000x600 with 1 Axes>"
      ]
     },
     "metadata": {},
     "output_type": "display_data"
    }
   ],
   "source": [
    "# 5.c\n",
    "df['Hour'] = df['OverDate'].dt.hour\n",
    "\n",
    "\n",
    "country_data = df[df['Country'] == '미국']\n",
    "\n",
    "hourly_orders = country_data.groupby('Hour').size()\n",
    "\n",
    "hourly_orders.plot(kind='bar', figsize=(10, 6))\n",
    "plt.title('Order by Hour in USA')\n",
    "plt.xlabel('Hour')\n",
    "plt.ylabel('Orders')\n",
    "plt.grid()\n",
    "plt.legend()\n",
    "plt.show()\n"
   ]
  },
  {
   "cell_type": "code",
   "execution_count": 66,
   "metadata": {},
   "outputs": [
    {
     "name": "stdout",
     "output_type": "stream",
     "text": [
      "8.1%\n"
     ]
    }
   ],
   "source": [
    "# 6.a\n",
    "\n",
    "re_buy_customers = customer_orders[customer_orders >1].count()\n",
    "total_customers = customer_orders.count()\n",
    "\n",
    "rating =re_buy_customers / total_customers * 100\n",
    "print(f'{rating:.2}%')"
   ]
  },
  {
   "cell_type": "code",
   "execution_count": 67,
   "metadata": {},
   "outputs": [
    {
     "name": "stdout",
     "output_type": "stream",
     "text": [
      "Category\n",
      "Beauty         0\n",
      "Books          0\n",
      "Clothing       0\n",
      "Electronics    0\n",
      "Food           0\n",
      "Sports         0\n",
      "Name: Discount_sell, dtype: object\n"
     ]
    }
   ],
   "source": [
    "# 6.b\n",
    "\n",
    "df['Discount_sell'] = df['Total_sales'] * (1- df['DiscountRate'])\n",
    "\n",
    "category_discount_sales = df.groupby('Category')['Discount_sell'].sum()\n",
    "print(category_discount_sales)"
   ]
  }
 ],
 "metadata": {
  "kernelspec": {
   "display_name": "pystudy_env",
   "language": "python",
   "name": "python3"
  },
  "language_info": {
   "codemirror_mode": {
    "name": "ipython",
    "version": 3
   },
   "file_extension": ".py",
   "mimetype": "text/x-python",
   "name": "python",
   "nbconvert_exporter": "python",
   "pygments_lexer": "ipython3",
   "version": "3.12.8"
  }
 },
 "nbformat": 4,
 "nbformat_minor": 2
}

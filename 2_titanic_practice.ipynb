{
 "cells": [
  {
   "cell_type": "markdown",
   "metadata": {},
   "source": [
    "##### [실습] titanic 승객 데이터 활용"
   ]
  },
  {
   "cell_type": "markdown",
   "metadata": {},
   "source": [
    "**컬럼 설명** \n",
    "- PassengerId - 승객 고유번호\n",
    "- Survived - 생존유무(target 값) (0 = 사망, 1 = 생존)\n",
    "- Pclass - 티켓 클래스 (1 = 1st, 2 = 2nd, 3 = 3rd)\n",
    "- Name - 탑승객 성명\n",
    "- Sex - 성별 (male: 남성, female: 여성)\n",
    "- Age - 나이(세)\n",
    "- SibSp - 함께 탑승한 형제자매, 배우자 수 총합\n",
    "- Parch - 함께 탑승한 부모, 자녀 수 총합\n",
    "- Ticket - 티켓 넘버\n",
    "- Fare - 탑승 요금\n",
    "- Cabin - 객실 넘버\n",
    "- Embarked - 탑승 항구 (C: Cherbourg, Q: Queenstown, S: Southampton)"
   ]
  },
  {
   "cell_type": "code",
   "execution_count": 1,
   "metadata": {},
   "outputs": [
    {
     "name": "stdout",
     "output_type": "stream",
     "text": [
      "<class 'pandas.core.frame.DataFrame'>\n",
      "RangeIndex: 891 entries, 0 to 890\n",
      "Data columns (total 12 columns):\n",
      " #   Column       Non-Null Count  Dtype  \n",
      "---  ------       --------------  -----  \n",
      " 0   PassengerId  891 non-null    int64  \n",
      " 1   Survived     891 non-null    int64  \n",
      " 2   Pclass       891 non-null    int64  \n",
      " 3   Name         891 non-null    object \n",
      " 4   Sex          891 non-null    object \n",
      " 5   Age          714 non-null    float64\n",
      " 6   SibSp        891 non-null    int64  \n",
      " 7   Parch        891 non-null    int64  \n",
      " 8   Ticket       891 non-null    object \n",
      " 9   Fare         891 non-null    float64\n",
      " 10  Cabin        204 non-null    object \n",
      " 11  Embarked     889 non-null    object \n",
      "dtypes: float64(2), int64(5), object(5)\n",
      "memory usage: 83.7+ KB\n"
     ]
    }
   ],
   "source": [
    "# titanic.csv 파일 로드\n",
    "# titanic 데이터셋의 메타 데이터 확인\n",
    "\n",
    "import numpy as np\n",
    "import pandas as pd\n",
    "\n",
    "df = pd.read_csv('./data/titanic.csv')\n",
    "df.info()"
   ]
  },
  {
   "cell_type": "markdown",
   "metadata": {},
   "source": [
    "- 기초문제"
   ]
  },
  {
   "cell_type": "code",
   "execution_count": 185,
   "metadata": {},
   "outputs": [
    {
     "name": "stdout",
     "output_type": "stream",
     "text": [
      "전체 승객 수: 891명      \n",
      "생존자 수: 342명      \n",
      "사망자 수: 549명\n"
     ]
    }
   ],
   "source": [
    "# 1. 전체 승객 중 생존자의 수와 사망자의 수를 구하여 출력\n",
    "\n",
    "count_passengers = len(df['Survived'])          # 전체 row 수\n",
    "\n",
    "count_survived = len(df[df['Survived'] == 1])   # 생존자 row 수\n",
    "\n",
    "count_died = len(df[df['Survived'] == 0])       # 사망자 row 수\n",
    "\n",
    "print(f'전체 승객 수: {count_passengers}명\\\n",
    "      \\n생존자 수: {count_survived}명\\\n",
    "      \\n사망자 수: {count_died}명')\n"
   ]
  },
  {
   "cell_type": "code",
   "execution_count": 186,
   "metadata": {},
   "outputs": [
    {
     "name": "stdout",
     "output_type": "stream",
     "text": [
      "전체 승객 나이 평균: 29.70\n"
     ]
    }
   ],
   "source": [
    "# 2. 승객 나이의 평균 출력\n",
    "\n",
    "count_passengers = len(df['Survived'])      # 전체 승객 수\n",
    "age_null = df['Age'].isna().sum()           # 나이결측 승객 수\n",
    "age_mean = df['Age'].mean()                 # 확인승객 평균나이\n",
    "age_median = int(df['Age'].median())        # 확인승객 중앙나이\n",
    "\n",
    "# print(f'전체 승객 수: {count_passengers}명\\\n",
    "#       \\n나이결측 승객 수: {age_null}명\\\n",
    "#       \\n확인승객 평균나이: {age_mean:.2f}세\\\n",
    "#       \\n확인승객 중앙나이: {age_median}세')\n",
    "# print('\\n')\n",
    "\n",
    "# 평균나이와 중앙나이 차이가 10% 미만이므로 결측치를 평균나이로 처리\n",
    "filled_age_mean = df['Age'].fillna(age_mean)\n",
    "passengers_age_mean = filled_age_mean.mean()\n",
    "\n",
    "print(f'전체 승객 나이 평균: {passengers_age_mean:.2f}')"
   ]
  },
  {
   "cell_type": "code",
   "execution_count": 187,
   "metadata": {},
   "outputs": [
    {
     "name": "stdout",
     "output_type": "stream",
     "text": [
      "Ward, Miss. Anna\n",
      "Cardeza, Mr. Thomas Drake Martinez\n",
      "Lesurer, Mr. Gustave J\n"
     ]
    }
   ],
   "source": [
    "# 3. 1등급 승객 중 운임이 가장 높은 승객의 이름 출력\n",
    "\n",
    "pclass_first = df[df['Pclass'] == 1]            # 1등급 승객 명단 df\n",
    "pclass_first_max = pclass_first['Fare'].max()   # 1등급 승객 명단 중에 가장 높은 운임\n",
    "pclass_first_rich = pclass_first[pclass_first['Fare'] == pclass_first_max]  # 명단이랑 비교\n",
    "\n",
    "\n",
    "# print(len(pclass_first_rich['Name']))           # 이름 컬럼의 숫자를 찾아보니 세 명\n",
    "pclass_first_list = list(pclass_first_rich['Name'])     # 이름을 리스트로 담기기\n",
    "\n",
    "for n in pclass_first_list:                     # 하나씩 출력\n",
    "    print(n)"
   ]
  },
  {
   "cell_type": "code",
   "execution_count": 188,
   "metadata": {},
   "outputs": [
    {
     "name": "stdout",
     "output_type": "stream",
     "text": [
      "314\n"
     ]
    }
   ],
   "source": [
    "# 4. 여성 승객의 수를 구하여 출력\n",
    "\n",
    "# print(len(df['Sex']))                   # 전체 승객 수\n",
    "# print(len(df[df['Sex'] == 'male']))     # 남성 승객 수\n",
    "print(len(df[df['Sex'] == 'female']))   # 여성 승객 수"
   ]
  },
  {
   "cell_type": "code",
   "execution_count": 189,
   "metadata": {},
   "outputs": [
    {
     "name": "stdout",
     "output_type": "stream",
     "text": [
      "                                                  Name      Fare\n",
      "1    Cumings, Mrs. John Bradley (Florence Briggs Th...   71.2833\n",
      "3         Futrelle, Mrs. Jacques Heath (Lily May Peel)   53.1000\n",
      "6                              McCarthy, Mr. Timothy J   51.8625\n",
      "27                      Fortune, Mr. Charles Alexander  263.0000\n",
      "31      Spencer, Mrs. William Augustus (Marie Eugenie)  146.5208\n",
      "..                                                 ...       ...\n",
      "856         Wick, Mrs. George Dennick (Mary Hitchcock)  164.8667\n",
      "863                  Sage, Miss. Dorothy Edith \"Dolly\"   69.5500\n",
      "867               Roebling, Mr. Washington Augustus II   50.4958\n",
      "871   Beckwith, Mrs. Richard Leonard (Sallie Monypeny)   52.5542\n",
      "879      Potter, Mrs. Thomas Jr (Lily Alexenia Wilson)   83.1583\n",
      "\n",
      "[161 rows x 2 columns]\n"
     ]
    }
   ],
   "source": [
    "# 5. 운임이 50 이상인 승객의 이름과 운임 출력\n",
    "\n",
    "fare_fifty = df[df['Fare'] >= 50]       # 운임이 50 이상\n",
    "print(fare_fifty[['Name', 'Fare']])     # 이름과 운임 출력"
   ]
  },
  {
   "cell_type": "code",
   "execution_count": 190,
   "metadata": {},
   "outputs": [
    {
     "name": "stdout",
     "output_type": "stream",
     "text": [
      "18세 미만 승객 생존율: 50.36 %\n"
     ]
    }
   ],
   "source": [
    "# 6. 나이가 18세 미만인 승객들의 생존율을 계산하여 출력\n",
    "\n",
    "# len(df['Survived'])                         # 전체 승객 수\n",
    "under_eighteen = df[df['Age'] <= 18]        # 18세 미만 승객 수\n",
    "under_eighteen_survived = len(under_eighteen[under_eighteen['Survived'] == 1]) \\\n",
    "/ len(under_eighteen['Survived']) * 100     # 18세 미만 승객 생존율\n",
    "\n",
    "print(f'18세 미만 승객 생존율: {under_eighteen_survived:.2f} %')"
   ]
  },
  {
   "cell_type": "code",
   "execution_count": 191,
   "metadata": {},
   "outputs": [
    {
     "name": "stdout",
     "output_type": "stream",
     "text": [
      "20.66 파운드\n"
     ]
    }
   ],
   "source": [
    "# 7. 2등급 객실에 탑승한 승객의 평균 운임을 계산하여 출력\n",
    "\n",
    "# len(df['Pclass'])                               # 전체 승객 수\n",
    "pclass_second = df[df['Pclass'] == 2]           # 2등급 객실 승객\n",
    "pclass_second_fare_mean = pclass_second['Fare'].mean()  # 2등급 객실 승객 평균 운임\n",
    "print(f'{pclass_second_fare_mean:.2f} 파운드')"
   ]
  },
  {
   "cell_type": "code",
   "execution_count": 192,
   "metadata": {},
   "outputs": [
    {
     "name": "stdout",
     "output_type": "stream",
     "text": [
      "      Age                                  Name\n",
      "630  80.0  Barkworth, Mr. Algernon Henry Wilson\n"
     ]
    }
   ],
   "source": [
    "# 8. 승객 중 나이가 가장 많은 사람의 나이와 이름을 출력\n",
    "\n",
    "oldest_age = df['Age'].max()                # 최고령자 나이\n",
    "oldest_passenger = df[df['Age'] == 80]      # 80세 조건\n",
    "print(oldest_passenger[['Age', 'Name']])    # 해당 조건의 나이와 이름 출력"
   ]
  },
  {
   "cell_type": "code",
   "execution_count": 193,
   "metadata": {},
   "outputs": [
    {
     "name": "stdout",
     "output_type": "stream",
     "text": [
      "S 항구 탑승객: 644 명\n"
     ]
    }
   ],
   "source": [
    "# 9. S 항구에서 탑승한 승객의 수를 출력\n",
    "\n",
    "# df.info()           # 889명 (결측치 2명 확인)\n",
    "\n",
    "embarked_s = df[df['Embarked'] == 'S']\n",
    "sum_s = embarked_s['Embarked'].count().sum()            # S항구: 644명\n",
    "print(f'S 항구 탑승객: {sum_s} 명')\n",
    "\n",
    "# embarked_q = df[df['Embarked'] == 'Q']\n",
    "# embarked_q['Embarked'].count().sum()                    # Q항구: 77명\n",
    "\n",
    "# embarked_c = df[df['Embarked'] == 'C']\n",
    "# embarked_c['Embarked'].count().sum()                    # C항구: 168명"
   ]
  },
  {
   "cell_type": "code",
   "execution_count": 194,
   "metadata": {},
   "outputs": [
    {
     "name": "stdout",
     "output_type": "stream",
     "text": [
      "3등급 객실 남성 생존자 수: 47 명\n"
     ]
    }
   ],
   "source": [
    "# 10. 3등급 객실에 탑승한 남성 승객 중 생존자의 수를 출력\n",
    "\n",
    "# len(df['Pclass'])                                   # 전체 승객 수\n",
    "pclass_third = df[df['Pclass'] == 3]                # 3등급 객실 승객\n",
    "\n",
    "pclass_third_male = pclass_third[pclass_third['Sex'] == 'male']     # 3등급 객실 남성\n",
    "\n",
    "pclass_third_male_survived = len(pclass_third_male[pclass_third_male['Survived'] == 1]) # 3등급 객실 남성 생존율\n",
    "\n",
    "print(f'3등급 객실 남성 생존자 수: {pclass_third_male_survived} 명')"
   ]
  },
  {
   "cell_type": "markdown",
   "metadata": {},
   "source": [
    "- 고급문제"
   ]
  },
  {
   "cell_type": "code",
   "execution_count": 195,
   "metadata": {},
   "outputs": [
    {
     "name": "stdout",
     "output_type": "stream",
     "text": [
      "35.37 세, 25.90 세, 20.65 세\n",
      "43.70 세, 33.54 세, 26.56 세\n"
     ]
    }
   ],
   "source": [
    "# 1. 생존자(Survived)와 그렇지 않은 사람들의 `Pclass`(객실 등급)별 평균 나이를 각각 출력\n",
    "\n",
    "# df.info()                   # 결측치 없음 확인\n",
    "\n",
    "survived = df[df['Survived'] == 1]                      # 생존자\n",
    "survived_first = survived[survived['Pclass'] == 1]      # 생존자 중 1등 객실\n",
    "survived_second = survived[survived['Pclass'] == 2]     # 생존자 중 2등 객실\n",
    "survived_third = survived[survived['Pclass'] == 3]      # 생존자 중 3등 객실\n",
    "survived_first_mean = survived_first['Age'].mean()      # 1등 객실 생존자 평균 나이\n",
    "survived_second_mean = survived_second['Age'].mean()    # 2등 객실 생존자 평균 나이\n",
    "survived_third_mean = survived_third['Age'].mean()      # 3등 객실 생존자 평균 나이\n",
    "\n",
    "print(f'{survived_first_mean:.2f} 세, {survived_second_mean:.2f} 세, {survived_third_mean:.2f} 세')\n",
    "\n",
    "unsurvived = df[df['Survived'] == 0]                        # 사망자\n",
    "unsurvived_first = unsurvived[unsurvived['Pclass'] == 1]    # 사망자 중 1등 객실\n",
    "unsurvived_second = unsurvived[unsurvived['Pclass'] == 2]   # 사망자 중 2등 객실\n",
    "unsurvived_third = unsurvived[unsurvived['Pclass'] == 3]    # 사망자 중 3등 객실\n",
    "unsurvived_first_mean = unsurvived_first['Age'].mean()      # 1등 객실 사망자 평균 나이\n",
    "unsurvived_second_mean =unsurvived_second['Age'].mean()     # 2등 객실 사망자 평균 나이\n",
    "unsurvived_third_mean = unsurvived_third['Age'].mean()      # 3등 객실 사망자 평균 나이\n",
    "\n",
    "print(f'{unsurvived_first_mean:.2f} 세, {unsurvived_second_mean:.2f} 세, {unsurvived_third_mean:.2f} 세')"
   ]
  },
  {
   "cell_type": "code",
   "execution_count": 196,
   "metadata": {},
   "outputs": [
    {
     "name": "stdout",
     "output_type": "stream",
     "text": [
      "                               Name   Age\n",
      "27   Fortune, Mr. Charles Alexander  19.0\n",
      "88       Fortune, Miss. Mabel Helen  23.0\n",
      "341  Fortune, Miss. Alice Elizabeth  24.0\n",
      "159      Sage, Master. Thomas Henry   NaN\n",
      "180    Sage, Miss. Constance Gladys   NaN\n"
     ]
    }
   ],
   "source": [
    "# 2. `SibSp`(형제/배우자 수)가 3 이상인 승객들 중에서, `Fare`(운임) 상위 5명의 이름과 나이를 출력\n",
    "\n",
    "# df.info()               # 결측치 없음 확인\n",
    "\n",
    "sibsp_three = df[df['SibSp'] >= 3]\n",
    "# sibsp_three_five = sibsp_three['Fare'].sort_values(ascending=False).head(5)\n",
    "# print(sibsp_three_five) # 상위 5명 요금 확인\n",
    "\n",
    "sibsp_three_top = sibsp_three.nlargest(5, 'Fare')\n",
    "print(sibsp_three_top[['Name', 'Age']])     # 상위 5명 이름 나이 출력"
   ]
  },
  {
   "cell_type": "code",
   "execution_count": 197,
   "metadata": {},
   "outputs": [
    {
     "name": "stdout",
     "output_type": "stream",
     "text": [
      "Embarked\n",
      "S    90\n",
      "Q    49\n",
      "C    38\n",
      "Name: count, dtype: int64\n"
     ]
    }
   ],
   "source": [
    "# 3. 승객 중에서 `Age` 값이 결측치(NaN)인 사람들의 `Embarked`(탑승 항구)별 분포를 출력\n",
    "\n",
    "age_nan = df[df['Age'].isna()]              # 나이 결측치 데이터만 수집\n",
    "age_nan_embarked = age_nan['Embarked'].value_counts()   # 탑승 항구별 밸류 카운트\n",
    "print(age_nan_embarked)"
   ]
  },
  {
   "cell_type": "code",
   "execution_count": 198,
   "metadata": {},
   "outputs": [
    {
     "name": "stdout",
     "output_type": "stream",
     "text": [
      "                                     Name     Sex  Survived\n",
      "14   Vestrom, Miss. Hulda Amanda Adolfina  female         0\n",
      "22            McGowan, Miss. Anna \"Annie\"  female         1\n",
      "138                   Osen, Mr. Olaf Elon    male         0\n",
      "156      Gilnagh, Miss. Katherine \"Katie\"  female         1\n",
      "208             Carr, Miss. Helen \"Ellen\"  female         1\n",
      "220        Sunderland, Mr. Victor Francis    male         1\n",
      "282             de Pelsmaeker, Mr. Alfons    male         0\n",
      "504                 Maioni, Miss. Roberta  female         1\n",
      "574          Rush, Mr. Alfred George John    male         0\n",
      "731              Hassan, Mr. Houssein G N    male         0\n",
      "764                Eklund, Mr. Hans Linus    male         0\n",
      "777         Emanuel, Miss. Virginia Ethel  female         1\n",
      "780                  Ayoub, Miss. Banoura  female         1\n",
      "791                   Gaskell, Mr. Alfred    male         0\n",
      "841              Mudd, Mr. Thomas Charles    male         0\n",
      "875      Najib, Miss. Adele Kiamie \"Jane\"  female         1\n"
     ]
    }
   ],
   "source": [
    "# 4. 나이가 16세 미만이고, 혼자 탑승한(`SibSp == 0` and `Parch == 0`) 승객의 이름과 성별, 생존 여부를 출력\n",
    "\n",
    "sixteen_solo = df[(df['Age'] <= 16) & (df['SibSp'] == 0) & (df['Parch'] == 0)]\n",
    "print(sixteen_solo[['Name', 'Sex', 'Survived']])"
   ]
  },
  {
   "cell_type": "code",
   "execution_count": 199,
   "metadata": {},
   "outputs": [
    {
     "name": "stdout",
     "output_type": "stream",
     "text": [
      "                                                  Name   Age      Fare\n",
      "1    Cumings, Mrs. John Bradley (Florence Briggs Th...  38.0   71.2833\n",
      "3         Futrelle, Mrs. Jacques Heath (Lily May Peel)  35.0   53.1000\n",
      "6                              McCarthy, Mr. Timothy J  54.0   51.8625\n",
      "23                        Sloper, Mr. William Thompson  28.0   35.5000\n",
      "27                      Fortune, Mr. Charles Alexander  19.0  263.0000\n",
      "..                                                 ...   ...       ...\n",
      "853                          Lines, Miss. Mary Conover  16.0   39.4000\n",
      "856         Wick, Mrs. George Dennick (Mary Hitchcock)  45.0  164.8667\n",
      "867               Roebling, Mr. Washington Augustus II  31.0   50.4958\n",
      "871   Beckwith, Mrs. Richard Leonard (Sallie Monypeny)  47.0   52.5542\n",
      "879      Potter, Mrs. Thomas Jr (Lily Alexenia Wilson)  56.0   83.1583\n",
      "\n",
      "[159 rows x 3 columns]\n"
     ]
    }
   ],
   "source": [
    "# 5. 1등급(Pclass == 1) 객실에 탑승한 승객들 중에서, 운임(Fare)이 평균보다 높은 사람들의 이름과 나이, 운임을 출력\n",
    "\n",
    "pclass_first_upper = df[(df['Pclass'] == 1) & (df['Fare'] >= df['Fare'].mean())]\n",
    "print(pclass_first_upper[['Name', 'Age', 'Fare']])"
   ]
  },
  {
   "cell_type": "code",
   "execution_count": 200,
   "metadata": {},
   "outputs": [
    {
     "name": "stdout",
     "output_type": "stream",
     "text": [
      "1등급 운임 평균값 및 중앙값\n",
      "87.96, 69.30\n",
      "\n",
      "2등급 운임 평균값 및 중앙값\n",
      "21.47, 15.05\n",
      "\n",
      "3등급 운임 평균값 및 중앙값\n",
      "13.23, 8.05\n"
     ]
    }
   ],
   "source": [
    "# 6. 나이(Age), 객실 등급(Pclass), 운임(Fare) 값에 결측치가 없는 승객들만 대상으로, 각 등급별 평균 운임과 중앙값 운임을 출력\n",
    "\n",
    "drop_nan = df.dropna(subset=['Age', 'Pclass', 'Fare'])  # 항목별 결측치 모두 드랍\n",
    "drop_nan_first = drop_nan[drop_nan['Pclass'] == 1]      # 드랍 후 1등 객실\n",
    "drop_nan_second = drop_nan[drop_nan['Pclass'] == 2]     # 드랍 후 2등 객실\n",
    "drop_nan_third = drop_nan[drop_nan['Pclass'] == 3]      # 드랍 후 3등 객실\n",
    "\n",
    "print(f'1등급 운임 평균값 및 중앙값\\n{drop_nan_first['Fare'].mean():.2f}, {drop_nan_first['Fare'].median():.2f}\\n')\n",
    "print(f'2등급 운임 평균값 및 중앙값\\n{drop_nan_second['Fare'].mean():.2f}, {drop_nan_second['Fare'].median():.2f}\\n')\n",
    "print(f'3등급 운임 평균값 및 중앙값\\n{drop_nan_third['Fare'].mean():.2f}, {drop_nan_third['Fare'].median():.2f}')"
   ]
  },
  {
   "cell_type": "code",
   "execution_count": 227,
   "metadata": {},
   "outputs": [
    {
     "name": "stdout",
     "output_type": "stream",
     "text": [
      "Embarked\n",
      "C    30.81\n",
      "Q    28.09\n",
      "S    29.45\n",
      "Name: Age, dtype: float64\n",
      "S 항구 탑승객 생존율: 33.70 %\n",
      "Q 항구 탑승객 생존율: 38.96 %\n",
      "C 항구 탑승객 생존율: 55.36 %\n"
     ]
    }
   ],
   "source": [
    "# 7. 승객들의 `Embarked` 별 평균 나이를 계산하고, 가장 많은 승객이 탑승한 항구를 기준으로 생존율을 계산하여 출력\n",
    "\n",
    "embarked_age_mean = df.groupby('Embarked')['Age'].mean().round(2)   # 그룹바이 소수점 둘째자리\n",
    "print(embarked_age_mean)    # 항구별 평균나이\n",
    "# S항구: 644명 / C항구: 168명 / Q항구: 77명\n",
    "\n",
    "embarked_s = df[df['Embarked'] == 'S']  # S항구: 644명\n",
    "embarked_s_ratio = len(embarked_s[embarked_s['Survived'] == 1]) / len(embarked_s) * 100 \n",
    "print(f'S 항구 탑승객 생존율: {embarked_s_ratio:.2f} %')\n",
    "\n",
    "embarked_q = df[df['Embarked'] == 'Q']  # Q항구: 77명\n",
    "embarked_q_ratio = len(embarked_q[embarked_q['Survived'] == 1]) / len(embarked_q) * 100 \n",
    "print(f'Q 항구 탑승객 생존율: {embarked_q_ratio:.2f} %')\n",
    "\n",
    "embarked_c = df[df['Embarked'] == 'C']  # C항구: 168명\n",
    "embarked_c_ratio = len(embarked_c[embarked_c['Survived'] == 1]) / len(embarked_c) * 100 \n",
    "print(f'C 항구 탑승객 생존율: {embarked_c_ratio:.2f} %')"
   ]
  },
  {
   "cell_type": "code",
   "execution_count": 228,
   "metadata": {},
   "outputs": [
    {
     "name": "stdout",
     "output_type": "stream",
     "text": [
      "생존율: 12.79 %\n"
     ]
    }
   ],
   "source": [
    "# 8. 승객 중에서 여성(`Sex == 'female'`)이면서 30세 이상인 사람들의 생존율을 계산하여 출력\n",
    "\n",
    "# df.info()\n",
    "\n",
    "gold_miss = df[(df['Sex'] == 'female') & (df['Age'] >= 30)]\n",
    "gold_miss_ratio = len(gold_miss) / len(df['Survived']) * 100\n",
    "print(f'생존율: {gold_miss_ratio:.2f} %')"
   ]
  },
  {
   "cell_type": "code",
   "execution_count": 229,
   "metadata": {},
   "outputs": [
    {
     "name": "stdout",
     "output_type": "stream",
     "text": [
      "생존율: 10.21 %\n"
     ]
    }
   ],
   "source": [
    "# 9. 동반한 형제 또는 배우자 수(`SibSp`)와 부모 또는 자녀 수(`Parch`)의 합이 3 이상인 승객들만을 대상으로, 그들의 생존율을 계산하여 출력\n",
    "\n",
    "# df.info()\n",
    "\n",
    "three_family = df[(df['SibSp'] + df['Parch']) >= 3]\n",
    "three_family_ratio = len(three_family) / len(df['Survived']) * 100\n",
    "print(f'생존율: {three_family_ratio:.2f} %')"
   ]
  },
  {
   "cell_type": "code",
   "execution_count": 238,
   "metadata": {},
   "outputs": [
    {
     "name": "stdout",
     "output_type": "stream",
     "text": [
      "객실 번호 존재 승객 1등 객실 생존율: 86.27 %\n",
      "객실 번호 존재 승객 2등 객실 생존율: 7.84 %\n",
      "객실 번호 존재 승객 3등 객실 생존율: 5.88 %\n"
     ]
    }
   ],
   "source": [
    "# 10. `Cabin`(객실 번호) 정보가 있는 승객들만을 대상으로,\n",
    "#  그들의 생존율을 객실 등급별로 구분하여 계산하여 출력\n",
    "\n",
    "# df.info()\n",
    "\n",
    "yes_cabin = df[df['Cabin'].notna()]\n",
    "\n",
    "yes_cabin_first = yes_cabin[yes_cabin['Pclass'] == 1]\n",
    "yes_cabin_second = yes_cabin[yes_cabin['Pclass'] == 2]\n",
    "yes_cabin_third = yes_cabin[yes_cabin['Pclass'] == 3]\n",
    "\n",
    "yes_cabin_first_ratio = len(yes_cabin_first) / len(yes_cabin) * 100\n",
    "yes_cabin_second_ratio = len(yes_cabin_second) / len(yes_cabin) * 100\n",
    "yes_cabin_third_ratio = len(yes_cabin_third) / len(yes_cabin) * 100\n",
    "\n",
    "print(f'객실 번호 존재 승객 1등 객실 생존율: {yes_cabin_first_ratio:.2f} %')\n",
    "print(f'객실 번호 존재 승객 2등 객실 생존율: {yes_cabin_second_ratio:.2f} %')\n",
    "print(f'객실 번호 존재 승객 3등 객실 생존율: {yes_cabin_third_ratio:.2f} %')"
   ]
  },
  {
   "cell_type": "code",
   "execution_count": null,
   "metadata": {},
   "outputs": [],
   "source": []
  }
 ],
 "metadata": {
  "kernelspec": {
   "display_name": "pystudy_env",
   "language": "python",
   "name": "python3"
  },
  "language_info": {
   "codemirror_mode": {
    "name": "ipython",
    "version": 3
   },
   "file_extension": ".py",
   "mimetype": "text/x-python",
   "name": "python",
   "nbconvert_exporter": "python",
   "pygments_lexer": "ipython3",
   "version": "3.12.8"
  }
 },
 "nbformat": 4,
 "nbformat_minor": 2
}

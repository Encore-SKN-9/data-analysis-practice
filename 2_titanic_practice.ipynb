{
 "cells": [
  {
   "cell_type": "code",
   "execution_count": 35,
   "metadata": {},
   "outputs": [],
   "source": [
    "import numpy as np\n",
    "import pandas as pd"
   ]
  },
  {
   "cell_type": "code",
   "execution_count": 36,
   "metadata": {},
   "outputs": [],
   "source": [
    "titanic_df = pd.read_csv(\".\\\\data\\\\titanic.csv\")\n"
   ]
  },
  {
   "cell_type": "markdown",
   "metadata": {},
   "source": [
    "PassengerId - 승객 고유번호\n",
    "Survived - 생존유무(target 값) (0 = 사망, 1 = 생존)\n",
    "Pclass - 티켓 클래스 (1 = 1st, 2 = 2nd, 3 = 3rd)\n",
    "Name - 탑승객 성명\n",
    "Sex - 성별 (male: 남성, female: 여성)\n",
    "Age - 나이(세)\n",
    "SibSp - 함께 탑승한 형제자매, 배우자 수 총합\n",
    "Parch - 함께 탑승한 부모, 자녀 수 총합\n",
    "Ticket - 티켓 넘버\n",
    "Fare - 탑승 요금\n",
    "Cabin - 객실 넘버\n",
    "Embarked - 탑승 항구 (C: Cherbourg, Q: Queenstown, S: Southampton)"
   ]
  },
  {
   "cell_type": "code",
   "execution_count": 37,
   "metadata": {},
   "outputs": [
    {
     "data": {
      "text/html": [
       "<div>\n",
       "<style scoped>\n",
       "    .dataframe tbody tr th:only-of-type {\n",
       "        vertical-align: middle;\n",
       "    }\n",
       "\n",
       "    .dataframe tbody tr th {\n",
       "        vertical-align: top;\n",
       "    }\n",
       "\n",
       "    .dataframe thead th {\n",
       "        text-align: right;\n",
       "    }\n",
       "</style>\n",
       "<table border=\"1\" class=\"dataframe\">\n",
       "  <thead>\n",
       "    <tr style=\"text-align: right;\">\n",
       "      <th></th>\n",
       "      <th>PassengerId</th>\n",
       "      <th>Survived</th>\n",
       "      <th>Pclass</th>\n",
       "      <th>Name</th>\n",
       "      <th>Sex</th>\n",
       "      <th>Age</th>\n",
       "      <th>SibSp</th>\n",
       "      <th>Parch</th>\n",
       "      <th>Ticket</th>\n",
       "      <th>Fare</th>\n",
       "      <th>Cabin</th>\n",
       "      <th>Embarked</th>\n",
       "    </tr>\n",
       "  </thead>\n",
       "  <tbody>\n",
       "    <tr>\n",
       "      <th>count</th>\n",
       "      <td>891.000000</td>\n",
       "      <td>891.000000</td>\n",
       "      <td>891.000000</td>\n",
       "      <td>891</td>\n",
       "      <td>891</td>\n",
       "      <td>714.000000</td>\n",
       "      <td>891.000000</td>\n",
       "      <td>891.000000</td>\n",
       "      <td>891</td>\n",
       "      <td>891.000000</td>\n",
       "      <td>204</td>\n",
       "      <td>889</td>\n",
       "    </tr>\n",
       "    <tr>\n",
       "      <th>unique</th>\n",
       "      <td>NaN</td>\n",
       "      <td>NaN</td>\n",
       "      <td>NaN</td>\n",
       "      <td>891</td>\n",
       "      <td>2</td>\n",
       "      <td>NaN</td>\n",
       "      <td>NaN</td>\n",
       "      <td>NaN</td>\n",
       "      <td>681</td>\n",
       "      <td>NaN</td>\n",
       "      <td>147</td>\n",
       "      <td>3</td>\n",
       "    </tr>\n",
       "    <tr>\n",
       "      <th>top</th>\n",
       "      <td>NaN</td>\n",
       "      <td>NaN</td>\n",
       "      <td>NaN</td>\n",
       "      <td>Dooley, Mr. Patrick</td>\n",
       "      <td>male</td>\n",
       "      <td>NaN</td>\n",
       "      <td>NaN</td>\n",
       "      <td>NaN</td>\n",
       "      <td>347082</td>\n",
       "      <td>NaN</td>\n",
       "      <td>G6</td>\n",
       "      <td>S</td>\n",
       "    </tr>\n",
       "    <tr>\n",
       "      <th>freq</th>\n",
       "      <td>NaN</td>\n",
       "      <td>NaN</td>\n",
       "      <td>NaN</td>\n",
       "      <td>1</td>\n",
       "      <td>577</td>\n",
       "      <td>NaN</td>\n",
       "      <td>NaN</td>\n",
       "      <td>NaN</td>\n",
       "      <td>7</td>\n",
       "      <td>NaN</td>\n",
       "      <td>4</td>\n",
       "      <td>644</td>\n",
       "    </tr>\n",
       "    <tr>\n",
       "      <th>mean</th>\n",
       "      <td>446.000000</td>\n",
       "      <td>0.383838</td>\n",
       "      <td>2.308642</td>\n",
       "      <td>NaN</td>\n",
       "      <td>NaN</td>\n",
       "      <td>29.699118</td>\n",
       "      <td>0.523008</td>\n",
       "      <td>0.381594</td>\n",
       "      <td>NaN</td>\n",
       "      <td>32.204208</td>\n",
       "      <td>NaN</td>\n",
       "      <td>NaN</td>\n",
       "    </tr>\n",
       "    <tr>\n",
       "      <th>std</th>\n",
       "      <td>257.353842</td>\n",
       "      <td>0.486592</td>\n",
       "      <td>0.836071</td>\n",
       "      <td>NaN</td>\n",
       "      <td>NaN</td>\n",
       "      <td>14.526497</td>\n",
       "      <td>1.102743</td>\n",
       "      <td>0.806057</td>\n",
       "      <td>NaN</td>\n",
       "      <td>49.693429</td>\n",
       "      <td>NaN</td>\n",
       "      <td>NaN</td>\n",
       "    </tr>\n",
       "    <tr>\n",
       "      <th>min</th>\n",
       "      <td>1.000000</td>\n",
       "      <td>0.000000</td>\n",
       "      <td>1.000000</td>\n",
       "      <td>NaN</td>\n",
       "      <td>NaN</td>\n",
       "      <td>0.420000</td>\n",
       "      <td>0.000000</td>\n",
       "      <td>0.000000</td>\n",
       "      <td>NaN</td>\n",
       "      <td>0.000000</td>\n",
       "      <td>NaN</td>\n",
       "      <td>NaN</td>\n",
       "    </tr>\n",
       "    <tr>\n",
       "      <th>25%</th>\n",
       "      <td>223.500000</td>\n",
       "      <td>0.000000</td>\n",
       "      <td>2.000000</td>\n",
       "      <td>NaN</td>\n",
       "      <td>NaN</td>\n",
       "      <td>20.125000</td>\n",
       "      <td>0.000000</td>\n",
       "      <td>0.000000</td>\n",
       "      <td>NaN</td>\n",
       "      <td>7.910400</td>\n",
       "      <td>NaN</td>\n",
       "      <td>NaN</td>\n",
       "    </tr>\n",
       "    <tr>\n",
       "      <th>50%</th>\n",
       "      <td>446.000000</td>\n",
       "      <td>0.000000</td>\n",
       "      <td>3.000000</td>\n",
       "      <td>NaN</td>\n",
       "      <td>NaN</td>\n",
       "      <td>28.000000</td>\n",
       "      <td>0.000000</td>\n",
       "      <td>0.000000</td>\n",
       "      <td>NaN</td>\n",
       "      <td>14.454200</td>\n",
       "      <td>NaN</td>\n",
       "      <td>NaN</td>\n",
       "    </tr>\n",
       "    <tr>\n",
       "      <th>75%</th>\n",
       "      <td>668.500000</td>\n",
       "      <td>1.000000</td>\n",
       "      <td>3.000000</td>\n",
       "      <td>NaN</td>\n",
       "      <td>NaN</td>\n",
       "      <td>38.000000</td>\n",
       "      <td>1.000000</td>\n",
       "      <td>0.000000</td>\n",
       "      <td>NaN</td>\n",
       "      <td>31.000000</td>\n",
       "      <td>NaN</td>\n",
       "      <td>NaN</td>\n",
       "    </tr>\n",
       "    <tr>\n",
       "      <th>max</th>\n",
       "      <td>891.000000</td>\n",
       "      <td>1.000000</td>\n",
       "      <td>3.000000</td>\n",
       "      <td>NaN</td>\n",
       "      <td>NaN</td>\n",
       "      <td>80.000000</td>\n",
       "      <td>8.000000</td>\n",
       "      <td>6.000000</td>\n",
       "      <td>NaN</td>\n",
       "      <td>512.329200</td>\n",
       "      <td>NaN</td>\n",
       "      <td>NaN</td>\n",
       "    </tr>\n",
       "  </tbody>\n",
       "</table>\n",
       "</div>"
      ],
      "text/plain": [
       "        PassengerId    Survived      Pclass                 Name   Sex  \\\n",
       "count    891.000000  891.000000  891.000000                  891   891   \n",
       "unique          NaN         NaN         NaN                  891     2   \n",
       "top             NaN         NaN         NaN  Dooley, Mr. Patrick  male   \n",
       "freq            NaN         NaN         NaN                    1   577   \n",
       "mean     446.000000    0.383838    2.308642                  NaN   NaN   \n",
       "std      257.353842    0.486592    0.836071                  NaN   NaN   \n",
       "min        1.000000    0.000000    1.000000                  NaN   NaN   \n",
       "25%      223.500000    0.000000    2.000000                  NaN   NaN   \n",
       "50%      446.000000    0.000000    3.000000                  NaN   NaN   \n",
       "75%      668.500000    1.000000    3.000000                  NaN   NaN   \n",
       "max      891.000000    1.000000    3.000000                  NaN   NaN   \n",
       "\n",
       "               Age       SibSp       Parch  Ticket        Fare Cabin Embarked  \n",
       "count   714.000000  891.000000  891.000000     891  891.000000   204      889  \n",
       "unique         NaN         NaN         NaN     681         NaN   147        3  \n",
       "top            NaN         NaN         NaN  347082         NaN    G6        S  \n",
       "freq           NaN         NaN         NaN       7         NaN     4      644  \n",
       "mean     29.699118    0.523008    0.381594     NaN   32.204208   NaN      NaN  \n",
       "std      14.526497    1.102743    0.806057     NaN   49.693429   NaN      NaN  \n",
       "min       0.420000    0.000000    0.000000     NaN    0.000000   NaN      NaN  \n",
       "25%      20.125000    0.000000    0.000000     NaN    7.910400   NaN      NaN  \n",
       "50%      28.000000    0.000000    0.000000     NaN   14.454200   NaN      NaN  \n",
       "75%      38.000000    1.000000    0.000000     NaN   31.000000   NaN      NaN  \n",
       "max      80.000000    8.000000    6.000000     NaN  512.329200   NaN      NaN  "
      ]
     },
     "execution_count": 37,
     "metadata": {},
     "output_type": "execute_result"
    }
   ],
   "source": [
    "titanic_df.describe(include = 'all')"
   ]
  },
  {
   "cell_type": "markdown",
   "metadata": {},
   "source": [
    "### 기본 문제"
   ]
  },
  {
   "cell_type": "code",
   "execution_count": 38,
   "metadata": {},
   "outputs": [
    {
     "name": "stdout",
     "output_type": "stream",
     "text": [
      "생존자: 342, 사망자: 549\n"
     ]
    }
   ],
   "source": [
    "# 1. 전체 승객 중 생존자의 수와 사망자의 수를 구하여 출력\n",
    "dead = len(titanic_df[titanic_df['Survived'] == 0])\n",
    "Survival  = len(titanic_df) - dead\n",
    "\n",
    "print(f'생존자: {Survival}, 사망자: {dead}')\n",
    "# survival = titanic_df[titanic_df['PassengerId']== 1].count()\n",
    "\n"
   ]
  },
  {
   "cell_type": "code",
   "execution_count": 39,
   "metadata": {},
   "outputs": [],
   "source": [
    "# dead = titanic_df[titanic_df['Survived'] ==0].value_counts()\n"
   ]
  },
  {
   "cell_type": "code",
   "execution_count": 40,
   "metadata": {},
   "outputs": [
    {
     "name": "stdout",
     "output_type": "stream",
     "text": [
      "30.0\n"
     ]
    }
   ],
   "source": [
    "# 2. 승객 나이의 평균 출력\n",
    "print(titanic_df['Age'].mean().round())"
   ]
  },
  {
   "cell_type": "code",
   "execution_count": 41,
   "metadata": {},
   "outputs": [
    {
     "name": "stdout",
     "output_type": "stream",
     "text": [
      "512.3292\n"
     ]
    }
   ],
   "source": [
    "# 3. 1등급 승객 중 운임이 가장 높은 승객의 이름 출력\n",
    "first_class = titanic_df[titanic_df['Pclass'] == 1]\n",
    "\n",
    "print(first_class['Fare'].max())\n"
   ]
  },
  {
   "cell_type": "code",
   "execution_count": 42,
   "metadata": {},
   "outputs": [
    {
     "name": "stdout",
     "output_type": "stream",
     "text": [
      "314\n"
     ]
    }
   ],
   "source": [
    "# 4. 여성 승객의 수를 구하여 출력\n",
    "Female = titanic_df['Sex'] == 'female'\n",
    "print(Female.sum())"
   ]
  },
  {
   "cell_type": "code",
   "execution_count": 43,
   "metadata": {},
   "outputs": [
    {
     "name": "stdout",
     "output_type": "stream",
     "text": [
      "                                                  Name      Fare\n",
      "1    Cumings, Mrs. John Bradley (Florence Briggs Th...   71.2833\n",
      "3         Futrelle, Mrs. Jacques Heath (Lily May Peel)   53.1000\n",
      "6                              McCarthy, Mr. Timothy J   51.8625\n",
      "27                      Fortune, Mr. Charles Alexander  263.0000\n",
      "31      Spencer, Mrs. William Augustus (Marie Eugenie)  146.5208\n",
      "..                                                 ...       ...\n",
      "856         Wick, Mrs. George Dennick (Mary Hitchcock)  164.8667\n",
      "863                  Sage, Miss. Dorothy Edith \"Dolly\"   69.5500\n",
      "867               Roebling, Mr. Washington Augustus II   50.4958\n",
      "871   Beckwith, Mrs. Richard Leonard (Sallie Monypeny)   52.5542\n",
      "879      Potter, Mrs. Thomas Jr (Lily Alexenia Wilson)   83.1583\n",
      "\n",
      "[161 rows x 2 columns]\n"
     ]
    }
   ],
   "source": [
    "# 5. 운임이 50 이상인 승객의 이름과 운임 출력\n",
    "\n",
    "filtered_df = titanic_df[titanic_df['Fare'] >=50][['Name','Fare']]\n",
    "print(filtered_df)"
   ]
  },
  {
   "cell_type": "code",
   "execution_count": 44,
   "metadata": {},
   "outputs": [
    {
     "name": "stdout",
     "output_type": "stream",
     "text": [
      "생존율 53.98230088495575\n"
     ]
    }
   ],
   "source": [
    "#  6. 나이가 18세 미만인 승객들의 생존율을 계산하여 출력\n",
    "filtered_df = titanic_df[titanic_df['Age'] < 18]\n",
    "survival_rate = len(filtered_df[filtered_df['Survived'] == 1]) / len(filtered_df) * 100\n",
    "print(f'생존율 {survival_rate}')\n",
    "\n",
    "#  61/ 113"
   ]
  },
  {
   "cell_type": "code",
   "execution_count": 45,
   "metadata": {},
   "outputs": [
    {
     "name": "stdout",
     "output_type": "stream",
     "text": [
      "20.662183152173913\n"
     ]
    }
   ],
   "source": [
    "# - 7. 2등급 객실에 탑승한 승객의 평균 운임을 계산하여 출력\n",
    "second_rider = titanic_df[titanic_df['Pclass'] == 2]['Fare'].mean()\n",
    "print(second_rider)"
   ]
  },
  {
   "cell_type": "code",
   "execution_count": 46,
   "metadata": {},
   "outputs": [
    {
     "name": "stdout",
     "output_type": "stream",
     "text": [
      "Barkworth, Mr. Algernon Henry Wilson 80.0\n"
     ]
    }
   ],
   "source": [
    "# - 8. 승객 중 나이가 가장 많은 사람의 나이와 이름을 출력\n",
    "Age_sort = titanic_df.sort_values(['Age'],ascending=False)\n",
    "oldest_passenger = Age_sort.iloc[0]\n",
    "print(oldest_passenger['Name'], oldest_passenger['Age'])\n",
    "\n"
   ]
  },
  {
   "cell_type": "code",
   "execution_count": 47,
   "metadata": {},
   "outputs": [
    {
     "name": "stdout",
     "output_type": "stream",
     "text": [
      "644\n"
     ]
    }
   ],
   "source": [
    "# - 9. S 항구에서 탑승한 승객의 수를 출력\n",
    "five_gate = titanic_df[titanic_df['Embarked'] == 'S']\n",
    "print(len(five_gate))"
   ]
  },
  {
   "cell_type": "code",
   "execution_count": 52,
   "metadata": {},
   "outputs": [
    {
     "data": {
      "text/plain": [
       "714"
      ]
     },
     "execution_count": 52,
     "metadata": {},
     "output_type": "execute_result"
    }
   ],
   "source": [
    "# - 10. 3등급 객실에 탑승한 남성 승객 중 생존자의 수를 출력\n",
    "filtered_data = titanic_df[(titanic_df['Pclass']==3) | (titanic_df['Sex']=='Male') | (titanic_df['Survived'] == 1)]\n",
    "len(filtered_data)"
   ]
  },
  {
   "cell_type": "markdown",
   "metadata": {},
   "source": [
    "-----------"
   ]
  },
  {
   "cell_type": "markdown",
   "metadata": {},
   "source": [
    "## 고급 문제"
   ]
  },
  {
   "cell_type": "code",
   "execution_count": 55,
   "metadata": {},
   "outputs": [
    {
     "data": {
      "text/plain": [
       "Survived\n",
       "0    30.626179\n",
       "1    28.343690\n",
       "Name: Age, dtype: float64"
      ]
     },
     "execution_count": 55,
     "metadata": {},
     "output_type": "execute_result"
    }
   ],
   "source": [
    "# 1. 생존자(Survived)와 그렇지 않은 사람들의 `Pclass`(객실 등급)별 평균 나이를 각각 출력\n",
    "titanic_df.groupby('Survived')['Age'].mean()"
   ]
  },
  {
   "cell_type": "code",
   "execution_count": 79,
   "metadata": {},
   "outputs": [
    {
     "data": {
      "text/html": [
       "<div>\n",
       "<style scoped>\n",
       "    .dataframe tbody tr th:only-of-type {\n",
       "        vertical-align: middle;\n",
       "    }\n",
       "\n",
       "    .dataframe tbody tr th {\n",
       "        vertical-align: top;\n",
       "    }\n",
       "\n",
       "    .dataframe thead th {\n",
       "        text-align: right;\n",
       "    }\n",
       "</style>\n",
       "<table border=\"1\" class=\"dataframe\">\n",
       "  <thead>\n",
       "    <tr style=\"text-align: right;\">\n",
       "      <th></th>\n",
       "      <th>Name</th>\n",
       "      <th>Fare</th>\n",
       "      <th>Age</th>\n",
       "    </tr>\n",
       "  </thead>\n",
       "  <tbody>\n",
       "    <tr>\n",
       "      <th>679</th>\n",
       "      <td>Cardeza, Mr. Thomas Drake Martinez</td>\n",
       "      <td>512.3292</td>\n",
       "      <td>36.0</td>\n",
       "    </tr>\n",
       "    <tr>\n",
       "      <th>258</th>\n",
       "      <td>Ward, Miss. Anna</td>\n",
       "      <td>512.3292</td>\n",
       "      <td>35.0</td>\n",
       "    </tr>\n",
       "    <tr>\n",
       "      <th>737</th>\n",
       "      <td>Lesurer, Mr. Gustave J</td>\n",
       "      <td>512.3292</td>\n",
       "      <td>35.0</td>\n",
       "    </tr>\n",
       "    <tr>\n",
       "      <th>88</th>\n",
       "      <td>Fortune, Miss. Mabel Helen</td>\n",
       "      <td>263.0000</td>\n",
       "      <td>23.0</td>\n",
       "    </tr>\n",
       "    <tr>\n",
       "      <th>438</th>\n",
       "      <td>Fortune, Mr. Mark</td>\n",
       "      <td>263.0000</td>\n",
       "      <td>64.0</td>\n",
       "    </tr>\n",
       "  </tbody>\n",
       "</table>\n",
       "</div>"
      ],
      "text/plain": [
       "                                   Name      Fare   Age\n",
       "679  Cardeza, Mr. Thomas Drake Martinez  512.3292  36.0\n",
       "258                    Ward, Miss. Anna  512.3292  35.0\n",
       "737              Lesurer, Mr. Gustave J  512.3292  35.0\n",
       "88           Fortune, Miss. Mabel Helen  263.0000  23.0\n",
       "438                   Fortune, Mr. Mark  263.0000  64.0"
      ]
     },
     "execution_count": 79,
     "metadata": {},
     "output_type": "execute_result"
    }
   ],
   "source": [
    "# 2. `SibSp`(형제/배우자 수)가 3 이상인 승객들 중에서, `Fare`(운임) 상위 5명의 이름과 나이를 출력\n",
    "grouping = titanic_df.groupby('SibSp')[['Name','Fare','Age']].filter(lambda x: len(x)>=  3)\n",
    "grouping.sort_values(by='Fare', ascending=False).head(5)\n",
    "\n",
    "\n"
   ]
  },
  {
   "cell_type": "code",
   "execution_count": 121,
   "metadata": {},
   "outputs": [
    {
     "data": {
      "text/html": [
       "<div>\n",
       "<style scoped>\n",
       "    .dataframe tbody tr th:only-of-type {\n",
       "        vertical-align: middle;\n",
       "    }\n",
       "\n",
       "    .dataframe tbody tr th {\n",
       "        vertical-align: top;\n",
       "    }\n",
       "\n",
       "    .dataframe thead th {\n",
       "        text-align: right;\n",
       "    }\n",
       "</style>\n",
       "<table border=\"1\" class=\"dataframe\">\n",
       "  <thead>\n",
       "    <tr style=\"text-align: right;\">\n",
       "      <th></th>\n",
       "      <th>PassengerId</th>\n",
       "      <th>Survived</th>\n",
       "      <th>Pclass</th>\n",
       "      <th>Name</th>\n",
       "      <th>Sex</th>\n",
       "      <th>Age</th>\n",
       "      <th>SibSp</th>\n",
       "      <th>Parch</th>\n",
       "      <th>Ticket</th>\n",
       "      <th>Fare</th>\n",
       "      <th>Cabin</th>\n",
       "    </tr>\n",
       "    <tr>\n",
       "      <th>Embarked</th>\n",
       "      <th></th>\n",
       "      <th></th>\n",
       "      <th></th>\n",
       "      <th></th>\n",
       "      <th></th>\n",
       "      <th></th>\n",
       "      <th></th>\n",
       "      <th></th>\n",
       "      <th></th>\n",
       "      <th></th>\n",
       "      <th></th>\n",
       "    </tr>\n",
       "  </thead>\n",
       "  <tbody>\n",
       "    <tr>\n",
       "      <th>C</th>\n",
       "      <td>38</td>\n",
       "      <td>38</td>\n",
       "      <td>38</td>\n",
       "      <td>38</td>\n",
       "      <td>38</td>\n",
       "      <td>0</td>\n",
       "      <td>38</td>\n",
       "      <td>38</td>\n",
       "      <td>38</td>\n",
       "      <td>38</td>\n",
       "      <td>4</td>\n",
       "    </tr>\n",
       "    <tr>\n",
       "      <th>Q</th>\n",
       "      <td>49</td>\n",
       "      <td>49</td>\n",
       "      <td>49</td>\n",
       "      <td>49</td>\n",
       "      <td>49</td>\n",
       "      <td>0</td>\n",
       "      <td>49</td>\n",
       "      <td>49</td>\n",
       "      <td>49</td>\n",
       "      <td>49</td>\n",
       "      <td>2</td>\n",
       "    </tr>\n",
       "    <tr>\n",
       "      <th>S</th>\n",
       "      <td>90</td>\n",
       "      <td>90</td>\n",
       "      <td>90</td>\n",
       "      <td>90</td>\n",
       "      <td>90</td>\n",
       "      <td>0</td>\n",
       "      <td>90</td>\n",
       "      <td>90</td>\n",
       "      <td>90</td>\n",
       "      <td>90</td>\n",
       "      <td>13</td>\n",
       "    </tr>\n",
       "  </tbody>\n",
       "</table>\n",
       "</div>"
      ],
      "text/plain": [
       "          PassengerId  Survived  Pclass  Name  Sex  Age  SibSp  Parch  Ticket  \\\n",
       "Embarked                                                                        \n",
       "C                  38        38      38    38   38    0     38     38      38   \n",
       "Q                  49        49      49    49   49    0     49     49      49   \n",
       "S                  90        90      90    90   90    0     90     90      90   \n",
       "\n",
       "          Fare  Cabin  \n",
       "Embarked               \n",
       "C           38      4  \n",
       "Q           49      2  \n",
       "S           90     13  "
      ]
     },
     "execution_count": 121,
     "metadata": {},
     "output_type": "execute_result"
    }
   ],
   "source": [
    "# 3. 승객 중에서 `Age` 값이 결측치(NaN)인 사람들의 `Embarked`(탑승 항구)별 분포를 출력\n",
    "# age 결측값인 사람\n",
    "# 탑승항구 그룹화\n",
    "# 수 출력\n",
    "\n",
    "# Zero_age = titanic_df[titanic_df['Age'].isnull()]\n",
    "\n",
    "titanic_df[titanic_df['Age'].isnull()].groupby('Embarked').count()\n"
   ]
  },
  {
   "cell_type": "code",
   "execution_count": 131,
   "metadata": {},
   "outputs": [
    {
     "data": {
      "text/html": [
       "<div>\n",
       "<style scoped>\n",
       "    .dataframe tbody tr th:only-of-type {\n",
       "        vertical-align: middle;\n",
       "    }\n",
       "\n",
       "    .dataframe tbody tr th {\n",
       "        vertical-align: top;\n",
       "    }\n",
       "\n",
       "    .dataframe thead th {\n",
       "        text-align: right;\n",
       "    }\n",
       "</style>\n",
       "<table border=\"1\" class=\"dataframe\">\n",
       "  <thead>\n",
       "    <tr style=\"text-align: right;\">\n",
       "      <th></th>\n",
       "      <th>Name</th>\n",
       "      <th>Sex</th>\n",
       "      <th>Survived</th>\n",
       "    </tr>\n",
       "  </thead>\n",
       "  <tbody>\n",
       "    <tr>\n",
       "      <th>14</th>\n",
       "      <td>Vestrom, Miss. Hulda Amanda Adolfina</td>\n",
       "      <td>female</td>\n",
       "      <td>0</td>\n",
       "    </tr>\n",
       "    <tr>\n",
       "      <th>22</th>\n",
       "      <td>McGowan, Miss. Anna \"Annie\"</td>\n",
       "      <td>female</td>\n",
       "      <td>1</td>\n",
       "    </tr>\n",
       "    <tr>\n",
       "      <th>731</th>\n",
       "      <td>Hassan, Mr. Houssein G N</td>\n",
       "      <td>male</td>\n",
       "      <td>0</td>\n",
       "    </tr>\n",
       "    <tr>\n",
       "      <th>777</th>\n",
       "      <td>Emanuel, Miss. Virginia Ethel</td>\n",
       "      <td>female</td>\n",
       "      <td>1</td>\n",
       "    </tr>\n",
       "    <tr>\n",
       "      <th>780</th>\n",
       "      <td>Ayoub, Miss. Banoura</td>\n",
       "      <td>female</td>\n",
       "      <td>1</td>\n",
       "    </tr>\n",
       "    <tr>\n",
       "      <th>875</th>\n",
       "      <td>Najib, Miss. Adele Kiamie \"Jane\"</td>\n",
       "      <td>female</td>\n",
       "      <td>1</td>\n",
       "    </tr>\n",
       "  </tbody>\n",
       "</table>\n",
       "</div>"
      ],
      "text/plain": [
       "                                     Name     Sex  Survived\n",
       "14   Vestrom, Miss. Hulda Amanda Adolfina  female         0\n",
       "22            McGowan, Miss. Anna \"Annie\"  female         1\n",
       "731              Hassan, Mr. Houssein G N    male         0\n",
       "777         Emanuel, Miss. Virginia Ethel  female         1\n",
       "780                  Ayoub, Miss. Banoura  female         1\n",
       "875      Najib, Miss. Adele Kiamie \"Jane\"  female         1"
      ]
     },
     "execution_count": 131,
     "metadata": {},
     "output_type": "execute_result"
    }
   ],
   "source": [
    "# 4. 나이가 16세 미만이고, 혼자 탑승한(`SibSp == 0` and `Parch == 0`) 승객의 이름과 성별, 생존 여부를 출력\n",
    "titanic_df[(titanic_df['Age'] < 16) & (titanic_df['SibSp'] == 0) & (titanic_df['Parch'] == 0)][['Name', 'Sex', 'Survived']]\n"
   ]
  },
  {
   "cell_type": "code",
   "execution_count": 133,
   "metadata": {},
   "outputs": [
    {
     "data": {
      "text/html": [
       "<div>\n",
       "<style scoped>\n",
       "    .dataframe tbody tr th:only-of-type {\n",
       "        vertical-align: middle;\n",
       "    }\n",
       "\n",
       "    .dataframe tbody tr th {\n",
       "        vertical-align: top;\n",
       "    }\n",
       "\n",
       "    .dataframe thead th {\n",
       "        text-align: right;\n",
       "    }\n",
       "</style>\n",
       "<table border=\"1\" class=\"dataframe\">\n",
       "  <thead>\n",
       "    <tr style=\"text-align: right;\">\n",
       "      <th></th>\n",
       "      <th>Name</th>\n",
       "      <th>Age</th>\n",
       "      <th>Fare</th>\n",
       "    </tr>\n",
       "  </thead>\n",
       "  <tbody>\n",
       "    <tr>\n",
       "      <th>1</th>\n",
       "      <td>Cumings, Mrs. John Bradley (Florence Briggs Th...</td>\n",
       "      <td>38.0</td>\n",
       "      <td>71.2833</td>\n",
       "    </tr>\n",
       "    <tr>\n",
       "      <th>3</th>\n",
       "      <td>Futrelle, Mrs. Jacques Heath (Lily May Peel)</td>\n",
       "      <td>35.0</td>\n",
       "      <td>53.1000</td>\n",
       "    </tr>\n",
       "    <tr>\n",
       "      <th>6</th>\n",
       "      <td>McCarthy, Mr. Timothy J</td>\n",
       "      <td>54.0</td>\n",
       "      <td>51.8625</td>\n",
       "    </tr>\n",
       "    <tr>\n",
       "      <th>23</th>\n",
       "      <td>Sloper, Mr. William Thompson</td>\n",
       "      <td>28.0</td>\n",
       "      <td>35.5000</td>\n",
       "    </tr>\n",
       "    <tr>\n",
       "      <th>27</th>\n",
       "      <td>Fortune, Mr. Charles Alexander</td>\n",
       "      <td>19.0</td>\n",
       "      <td>263.0000</td>\n",
       "    </tr>\n",
       "    <tr>\n",
       "      <th>...</th>\n",
       "      <td>...</td>\n",
       "      <td>...</td>\n",
       "      <td>...</td>\n",
       "    </tr>\n",
       "    <tr>\n",
       "      <th>853</th>\n",
       "      <td>Lines, Miss. Mary Conover</td>\n",
       "      <td>16.0</td>\n",
       "      <td>39.4000</td>\n",
       "    </tr>\n",
       "    <tr>\n",
       "      <th>856</th>\n",
       "      <td>Wick, Mrs. George Dennick (Mary Hitchcock)</td>\n",
       "      <td>45.0</td>\n",
       "      <td>164.8667</td>\n",
       "    </tr>\n",
       "    <tr>\n",
       "      <th>867</th>\n",
       "      <td>Roebling, Mr. Washington Augustus II</td>\n",
       "      <td>31.0</td>\n",
       "      <td>50.4958</td>\n",
       "    </tr>\n",
       "    <tr>\n",
       "      <th>871</th>\n",
       "      <td>Beckwith, Mrs. Richard Leonard (Sallie Monypeny)</td>\n",
       "      <td>47.0</td>\n",
       "      <td>52.5542</td>\n",
       "    </tr>\n",
       "    <tr>\n",
       "      <th>879</th>\n",
       "      <td>Potter, Mrs. Thomas Jr (Lily Alexenia Wilson)</td>\n",
       "      <td>56.0</td>\n",
       "      <td>83.1583</td>\n",
       "    </tr>\n",
       "  </tbody>\n",
       "</table>\n",
       "<p>159 rows × 3 columns</p>\n",
       "</div>"
      ],
      "text/plain": [
       "                                                  Name   Age      Fare\n",
       "1    Cumings, Mrs. John Bradley (Florence Briggs Th...  38.0   71.2833\n",
       "3         Futrelle, Mrs. Jacques Heath (Lily May Peel)  35.0   53.1000\n",
       "6                              McCarthy, Mr. Timothy J  54.0   51.8625\n",
       "23                        Sloper, Mr. William Thompson  28.0   35.5000\n",
       "27                      Fortune, Mr. Charles Alexander  19.0  263.0000\n",
       "..                                                 ...   ...       ...\n",
       "853                          Lines, Miss. Mary Conover  16.0   39.4000\n",
       "856         Wick, Mrs. George Dennick (Mary Hitchcock)  45.0  164.8667\n",
       "867               Roebling, Mr. Washington Augustus II  31.0   50.4958\n",
       "871   Beckwith, Mrs. Richard Leonard (Sallie Monypeny)  47.0   52.5542\n",
       "879      Potter, Mrs. Thomas Jr (Lily Alexenia Wilson)  56.0   83.1583\n",
       "\n",
       "[159 rows x 3 columns]"
      ]
     },
     "execution_count": 133,
     "metadata": {},
     "output_type": "execute_result"
    }
   ],
   "source": [
    "# 5. 1등급(Pclass == 1) 객실에 탑승한 승객들 중에서, 운임(Fare)이 평균보다 높은 사람들의 이름과 나이, 운임을 출력\n",
    "titanic_df[ (titanic_df['Pclass'] == 1) &  (titanic_df['Fare'] > titanic_df['Fare'].mean())][['Name', 'Age', 'Fare']]\n"
   ]
  },
  {
   "cell_type": "code",
   "execution_count": 141,
   "metadata": {},
   "outputs": [
    {
     "data": {
      "text/html": [
       "<div>\n",
       "<style scoped>\n",
       "    .dataframe tbody tr th:only-of-type {\n",
       "        vertical-align: middle;\n",
       "    }\n",
       "\n",
       "    .dataframe tbody tr th {\n",
       "        vertical-align: top;\n",
       "    }\n",
       "\n",
       "    .dataframe thead th {\n",
       "        text-align: right;\n",
       "    }\n",
       "</style>\n",
       "<table border=\"1\" class=\"dataframe\">\n",
       "  <thead>\n",
       "    <tr style=\"text-align: right;\">\n",
       "      <th></th>\n",
       "      <th>mean</th>\n",
       "      <th>median</th>\n",
       "    </tr>\n",
       "    <tr>\n",
       "      <th>Pclass</th>\n",
       "      <th></th>\n",
       "      <th></th>\n",
       "    </tr>\n",
       "  </thead>\n",
       "  <tbody>\n",
       "    <tr>\n",
       "      <th>True</th>\n",
       "      <td>1.0</td>\n",
       "      <td>1.0</td>\n",
       "    </tr>\n",
       "  </tbody>\n",
       "</table>\n",
       "</div>"
      ],
      "text/plain": [
       "        mean  median\n",
       "Pclass              \n",
       "True     1.0     1.0"
      ]
     },
     "execution_count": 141,
     "metadata": {},
     "output_type": "execute_result"
    }
   ],
   "source": [
    "# 6. 나이(Age), 객실 등급(Pclass), 운임(Fare) 값에 결측치가 없는 승객들만 대상으로, 각 등급별 평균 운임과 중앙값 운임을 출력\n",
    "titanic_df[['Age', 'Pclass', 'Fare']].notna().groupby(\"Pclass\")['Fare'].agg(['mean', 'median'])"
   ]
  },
  {
   "cell_type": "code",
   "execution_count": 151,
   "metadata": {},
   "outputs": [
    {
     "name": "stdout",
     "output_type": "stream",
     "text": [
      "Embarked\n",
      "C    30.814769\n",
      "Q    28.089286\n",
      "S    29.445397\n",
      "Name: Age, dtype: float64\n"
     ]
    },
    {
     "data": {
      "text/plain": [
       "[1.0]"
      ]
     },
     "execution_count": 151,
     "metadata": {},
     "output_type": "execute_result"
    }
   ],
   "source": [
    "# 7. 승객들의 `Embarked` 별 평균 나이를 계산하고, 가장 많은 승객이 탑승한 항구를 기준으로 생존율을 계산하여 출력\n",
    "print(titanic_df.groupby('Embarked')['Age'].mean())\n",
    "titanic_df['Embarked'].sort_values(ascending=False)\n",
    "\n"
   ]
  },
  {
   "cell_type": "code",
   "execution_count": 166,
   "metadata": {},
   "outputs": [
    {
     "data": {
      "text/plain": [
       "0.19298245614035087"
      ]
     },
     "execution_count": 166,
     "metadata": {},
     "output_type": "execute_result"
    }
   ],
   "source": [
    "# 8. 승객 중에서 여성(`Sex == 'female'`)이면서 30세 이상인 사람들의 생존율을 계산하여 출력\n",
    "\n",
    "# print(len(filtering['Survived'] == 1) / len(filtering))\n",
    "filtering_df = titanic_df[(titanic_df['Sex'] =='female') & (titanic_df['Age'] >= 30)]\n",
    "\n",
    "# 생존율\n",
    "len(filtering_df[filtering_df['Survived']==1]) / len(filtering_df)\n"
   ]
  },
  {
   "cell_type": "code",
   "execution_count": 169,
   "metadata": {},
   "outputs": [
    {
     "data": {
      "text/plain": [
       "0.34065934065934067"
      ]
     },
     "execution_count": 169,
     "metadata": {},
     "output_type": "execute_result"
    }
   ],
   "source": [
    "# 9. 동반한 형제 또는 배우자 수(`SibSp`)와 부모 또는 자녀 수(`Parch`)의 합이 3 이상인 승객들만을 대상으로, 그들의 생존율을 계산하여 출력\n",
    "filter_df = titanic_df[titanic_df['SibSp'] + titanic_df['Parch'] >= 3]\n",
    "\n",
    "# 생존율\n",
    "len(filter_df[filter_df['Survived']==1]) / len(filter_df)"
   ]
  },
  {
   "cell_type": "code",
   "execution_count": 190,
   "metadata": {},
   "outputs": [
    {
     "name": "stdout",
     "output_type": "stream",
     "text": [
      "Pclass\n",
      "1    136\n",
      "2     87\n",
      "3    119\n",
      "Name: Survived, dtype: int64\n",
      "1st: 15.26374859708193, 2nd: 9.764309764309765, 3th: 13.35578002244669\n"
     ]
    }
   ],
   "source": [
    "# 10. `Cabin`(객실 번호) 정보가 있는 승객들만을 대상으로, 그들의 생존율을 객실 등급별로 구분하여 계산하여 출력\n",
    "titanic_df['Cabin'] = titanic_df['Cabin'].dropna()\n",
    "\n",
    "# 객실 번호 정보 잇는 승객 명수: 891\n",
    "total = len(titanic_df['Cabin'])\n",
    "\n",
    "# 객실 등급별 생존자 \n",
    "survival = titanic_df.groupby('Pclass')['Survived'].sum()\n",
    "print(survival)\n",
    "\n",
    "# 생존률\n",
    "print(f\"1st: {survival[1]/total*100}, 2nd: {survival[2]/total*100}, 3th: {survival[3]/total*100}\")\n",
    "\n",
    "\n"
   ]
  }
 ],
 "metadata": {
  "kernelspec": {
   "display_name": "pystudy_env",
   "language": "python",
   "name": "python3"
  },
  "language_info": {
   "codemirror_mode": {
    "name": "ipython",
    "version": 3
   },
   "file_extension": ".py",
   "mimetype": "text/x-python",
   "name": "python",
   "nbconvert_exporter": "python",
   "pygments_lexer": "ipython3",
   "version": "3.12.8"
  }
 },
 "nbformat": 4,
 "nbformat_minor": 2
}
